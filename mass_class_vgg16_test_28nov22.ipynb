{
 "cells": [
  {
   "cell_type": "code",
   "execution_count": 1,
   "metadata": {},
   "outputs": [],
   "source": [
    "#!pip install opencv-python"
   ]
  },
  {
   "cell_type": "code",
   "execution_count": 1,
   "metadata": {},
   "outputs": [],
   "source": [
    "# TRANSFER LEARNING FINE TUNING -  MASS CLASSIFICATION USING SEGMENTATION MODEL OUTPUT BCDR MASS LESION\n",
    "import numpy as np\n",
    "import tensorflow.keras\n",
    "import keras\n",
    "from tensorflow.keras.preprocessing.image import ImageDataGenerator\n",
    "from tensorflow.keras.callbacks import EarlyStopping, ModelCheckpoint, ReduceLROnPlateau\n",
    "#from tensorflow.keras.utils import np_utils\n",
    "#%matplotlib inline\n",
    "keras.backend.set_image_data_format('channels_last')\n",
    "import tensorflow as tf\n",
    "#import pandas as pd\n",
    "import os\n",
    "#import matplotlib.pyplot as plt\n",
    "#from tensorflow.python.keras.preprocessing import image\n",
    "from tensorflow.keras.optimizers import Adam\n",
    "from sklearn import metrics\n",
    "from tensorflow.keras.layers import ReLU\n",
    "from tensorflow.keras.layers import Input, Flatten, Dense, Dropout, Convolution2D, Conv2D, MaxPooling2D, Lambda, GlobalMaxPooling2D, GlobalAveragePooling2D, BatchNormalization, Activation\n",
    "from tensorflow.keras import Sequential, Model\n",
    "\n",
    "vid='v002_3' #last number is the cross-validation fold number"
   ]
  },
  {
   "cell_type": "code",
   "execution_count": 2,
   "metadata": {},
   "outputs": [],
   "source": [
    "from tensorflow import keras\n",
    "model = keras.models.load_model(\"mass_class_VGG16_v002_\"+vid[-1]+\".h5\")"
   ]
  },
  {
   "cell_type": "code",
   "execution_count": 3,
   "metadata": {
    "colab": {
     "base_uri": "https://localhost:8080/",
     "height": 1000
    },
    "colab_type": "code",
    "id": "xd-IqGESbZMD",
    "outputId": "4590ac48-4e1c-4e41-b2a3-d67fac97b568"
   },
   "outputs": [
    {
     "name": "stdout",
     "output_type": "stream",
     "text": [
      "Model: \"model\"\n",
      "_________________________________________________________________\n",
      " Layer (type)                Output Shape              Param #   \n",
      "=================================================================\n",
      " input_1 (InputLayer)        [(None, 224, 224, 3)]     0         \n",
      "                                                                 \n",
      " block1_conv1 (Conv2D)       (None, 224, 224, 64)      1792      \n",
      "                                                                 \n",
      " block1_conv2 (Conv2D)       (None, 224, 224, 64)      36928     \n",
      "                                                                 \n",
      " block1_pool (MaxPooling2D)  (None, 112, 112, 64)      0         \n",
      "                                                                 \n",
      " block2_conv1 (Conv2D)       (None, 112, 112, 128)     73856     \n",
      "                                                                 \n",
      " block2_conv2 (Conv2D)       (None, 112, 112, 128)     147584    \n",
      "                                                                 \n",
      " block2_pool (MaxPooling2D)  (None, 56, 56, 128)       0         \n",
      "                                                                 \n",
      " block3_conv1 (Conv2D)       (None, 56, 56, 256)       295168    \n",
      "                                                                 \n",
      " block3_conv2 (Conv2D)       (None, 56, 56, 256)       590080    \n",
      "                                                                 \n",
      " block3_conv3 (Conv2D)       (None, 56, 56, 256)       590080    \n",
      "                                                                 \n",
      " block3_pool (MaxPooling2D)  (None, 28, 28, 256)       0         \n",
      "                                                                 \n",
      " block4_conv1 (Conv2D)       (None, 28, 28, 512)       1180160   \n",
      "                                                                 \n",
      " block4_conv2 (Conv2D)       (None, 28, 28, 512)       2359808   \n",
      "                                                                 \n",
      " block4_conv3 (Conv2D)       (None, 28, 28, 512)       2359808   \n",
      "                                                                 \n",
      " block4_pool (MaxPooling2D)  (None, 14, 14, 512)       0         \n",
      "                                                                 \n",
      " block5_conv1 (Conv2D)       (None, 14, 14, 512)       2359808   \n",
      "                                                                 \n",
      " block5_conv2 (Conv2D)       (None, 14, 14, 512)       2359808   \n",
      "                                                                 \n",
      " block5_conv3 (Conv2D)       (None, 14, 14, 512)       2359808   \n",
      "                                                                 \n",
      " block5_pool (MaxPooling2D)  (None, 7, 7, 512)         0         \n",
      "                                                                 \n",
      " global_average_pooling2d (G  (None, 512)              0         \n",
      " lobalAveragePooling2D)                                          \n",
      "                                                                 \n",
      " dense (Dense)               (None, 256)               131328    \n",
      "                                                                 \n",
      " re_lu (ReLU)                (None, 256)               0         \n",
      "                                                                 \n",
      " dropout (Dropout)           (None, 256)               0         \n",
      "                                                                 \n",
      " dense_1 (Dense)             (None, 128)               32896     \n",
      "                                                                 \n",
      " re_lu_1 (ReLU)              (None, 128)               0         \n",
      "                                                                 \n",
      " dense_2 (Dense)             (None, 1)                 129       \n",
      "                                                                 \n",
      "=================================================================\n",
      "Total params: 14,879,041\n",
      "Trainable params: 14,879,041\n",
      "Non-trainable params: 0\n",
      "_________________________________________________________________\n"
     ]
    }
   ],
   "source": [
    "model.summary()"
   ]
  },
  {
   "cell_type": "code",
   "execution_count": 5,
   "metadata": {
    "colab": {
     "base_uri": "https://localhost:8080/",
     "height": 34
    },
    "colab_type": "code",
    "id": "QjgKhigkbZMJ",
    "outputId": "b249938d-06da-4558-9bbc-70953f25ac01"
   },
   "outputs": [
    {
     "data": {
      "text/plain": [
       "26"
      ]
     },
     "execution_count": 5,
     "metadata": {},
     "output_type": "execute_result"
    }
   ],
   "source": [
    "len(model.layers)"
   ]
  },
  {
   "cell_type": "code",
   "execution_count": 5,
   "metadata": {
    "colab": {
     "base_uri": "https://localhost:8080/",
     "height": 229
    },
    "colab_type": "code",
    "id": "ZZz5QreQbZMa",
    "outputId": "96386a44-65c1-4091-9a51-5418f3fe8758"
   },
   "outputs": [
    {
     "name": "stdout",
     "output_type": "stream",
     "text": [
      "Found 182 images belonging to 2 classes.\n",
      "Found 46 images belonging to 2 classes.\n"
     ]
    }
   ],
   "source": [
    "# Image preprocessing and data augmentation\n",
    "import cv2\n",
    "IMG_SIZE=224\n",
    "batch_size=8\n",
    "\n",
    "train_datagen = ImageDataGenerator(\n",
    "                         horizontal_flip = True,\n",
    "                         vertical_flip = True,\n",
    "                         rotation_range = 90,\n",
    "                         fill_mode=\"constant\",\n",
    "                         width_shift_range = 0.2,\n",
    "                         zoom_range = 0.2,\n",
    "                         rescale=1./255,\n",
    "                         height_shift_range = 0.2\n",
    "                        )\n",
    "\n",
    "valid_datagen = ImageDataGenerator(rescale=1./255)\n",
    "\n",
    "train_generator = train_datagen.flow_from_directory('train0'+vid[-1], \n",
    "                                                  target_size=(IMG_SIZE,IMG_SIZE),\n",
    "                                                 color_mode='rgb',\n",
    "                                                 batch_size=batch_size,\n",
    "                                                 class_mode='binary',\n",
    "                                                 shuffle=True)\n",
    "valid_generator = valid_datagen.flow_from_directory('valid0'+vid[-1], \n",
    "                                                 target_size=(IMG_SIZE,IMG_SIZE),\n",
    "                                                 color_mode='rgb',\n",
    "                                                 batch_size=batch_size,\n",
    "                                                 class_mode='binary',\n",
    "                                                 shuffle=True)\n"
   ]
  },
  {
   "cell_type": "code",
   "execution_count": 6,
   "metadata": {},
   "outputs": [
    {
     "name": "stdout",
     "output_type": "stream",
     "text": [
      "Found 42 images belonging to 2 classes.\n",
      "6/6 [==============================] - 36s 264ms/step\n",
      "Confusion Matrix:\n",
      "[[23  2]\n",
      " [ 8  9]]\n",
      "Accuracy: 0.7619047619047619\n",
      "ROC AUC score: 0.8188235294117647\n",
      "Precision score: 0.8181818181818182\n",
      "Recall score: 0.5294117647058824\n",
      "F1 score: 0.6428571428571428\n",
      "MCC score: 0.5017203455689636\n"
     ]
    }
   ],
   "source": [
    "# Predicted object delete threshold = 30\n",
    "test_datagen = ImageDataGenerator(rescale=1./255)\n",
    "\n",
    "test_generator = test_datagen.flow_from_directory('test_upp_xcept', \n",
    "                                                 target_size=(IMG_SIZE,IMG_SIZE),\n",
    "                                                 color_mode='rgb',\n",
    "                                                 batch_size=batch_size,\n",
    "                                                 class_mode='binary',\n",
    "                                                 shuffle=False)\n",
    "\n",
    "\n",
    "# Ref: https://gist.github.com/RyanAkilos/3808c17f79e77c4117de35aa68447045 accessed on 5 Feb 2020\n",
    "from sklearn.metrics import precision_score, recall_score, confusion_matrix, accuracy_score, roc_auc_score, f1_score, matthews_corrcoef\n",
    "\n",
    "\n",
    "Y_pred = model.predict(test_generator)\n",
    "y_pred=(Y_pred>0.5).astype(int)\n",
    "ras=roc_auc_score(test_generator.classes, Y_pred)\n",
    "prec=precision_score(test_generator.classes, y_pred,pos_label=1)\n",
    "rec=recall_score(test_generator.classes, y_pred,pos_label=1)\n",
    "f1s=f1_score(test_generator.classes, y_pred,pos_label=1)\n",
    "mcc=matthews_corrcoef(test_generator.classes, y_pred)\n",
    "\n",
    "print('Confusion Matrix:')\n",
    "print(confusion_matrix(test_generator.classes, y_pred))\n",
    "print('Accuracy:', accuracy_score(test_generator.classes, y_pred))\n",
    "print('ROC AUC score:', ras)\n",
    "print('Precision score:', prec)\n",
    "print('Recall score:', rec)\n",
    "print('F1 score:', f1s)\n",
    "print('MCC score:', mcc)"
   ]
  },
  {
   "cell_type": "code",
   "execution_count": null,
   "metadata": {},
   "outputs": [],
   "source": []
  }
 ],
 "metadata": {
  "accelerator": "GPU",
  "colab": {
   "collapsed_sections": [],
   "name": "tis_dens_class_nasnet_imgnt_s16_22may20_gcl_v1.ipynb",
   "provenance": []
  },
  "kernelspec": {
   "display_name": "gpu-tf22",
   "language": "python",
   "name": "tf-gpu22"
  },
  "language_info": {
   "codemirror_mode": {
    "name": "ipython",
    "version": 3
   },
   "file_extension": ".py",
   "mimetype": "text/x-python",
   "name": "python",
   "nbconvert_exporter": "python",
   "pygments_lexer": "ipython3",
   "version": "3.9.13"
  }
 },
 "nbformat": 4,
 "nbformat_minor": 1
}
