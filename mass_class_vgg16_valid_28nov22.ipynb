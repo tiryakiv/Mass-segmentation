{
 "cells": [
  {
   "cell_type": "code",
   "execution_count": 1,
   "metadata": {},
   "outputs": [],
   "source": [
    "#!pip install opencv-python"
   ]
  },
  {
   "cell_type": "code",
   "execution_count": 2,
   "metadata": {},
   "outputs": [],
   "source": [
    "# TRANSFER LEARNING FINE TUNING -  MASS CLASSIFICATION USING SEGMENTATION MODEL OUTPUT BCDR MASS LESION\n",
    "import numpy as np\n",
    "import tensorflow.keras\n",
    "import keras\n",
    "from tensorflow.keras.preprocessing.image import ImageDataGenerator\n",
    "from tensorflow.keras.callbacks import EarlyStopping, ModelCheckpoint, ReduceLROnPlateau\n",
    "#from tensorflow.keras.utils import np_utils\n",
    "#%matplotlib inline\n",
    "keras.backend.set_image_data_format('channels_last')\n",
    "import tensorflow as tf\n",
    "#import pandas as pd\n",
    "import os\n",
    "#import matplotlib.pyplot as plt\n",
    "#from tensorflow.python.keras.preprocessing import image\n",
    "from tensorflow.keras.optimizers import Adam\n",
    "from sklearn import metrics\n",
    "from tensorflow.keras.layers import ReLU\n",
    "from tensorflow.keras.layers import Input, Flatten, Dense, Dropout, Convolution2D, Conv2D, MaxPooling2D, Lambda, GlobalMaxPooling2D, GlobalAveragePooling2D, BatchNormalization, Activation\n",
    "from tensorflow.keras import Sequential, Model\n",
    "\n"
   ]
  },
  {
   "cell_type": "code",
   "execution_count": 16,
   "metadata": {},
   "outputs": [],
   "source": [
    "vid='v002_5' #last number is the cross-validation fold number\n",
    "from tensorflow import keras\n",
    "model = keras.models.load_model(\"mass_class_VGG16_v002_\"+vid[-1]+\".h5\")"
   ]
  },
  {
   "cell_type": "code",
   "execution_count": 17,
   "metadata": {
    "colab": {
     "base_uri": "https://localhost:8080/",
     "height": 229
    },
    "colab_type": "code",
    "id": "ZZz5QreQbZMa",
    "outputId": "96386a44-65c1-4091-9a51-5418f3fe8758"
   },
   "outputs": [
    {
     "name": "stdout",
     "output_type": "stream",
     "text": [
      "Found 184 images belonging to 2 classes.\n",
      "Found 44 images belonging to 2 classes.\n"
     ]
    }
   ],
   "source": [
    "# Image preprocessing and data augmentation\n",
    "import cv2\n",
    "IMG_SIZE=224\n",
    "batch_size=8\n",
    "\n",
    "train_datagen = ImageDataGenerator(\n",
    "                         horizontal_flip = True,\n",
    "                         vertical_flip = True,\n",
    "                         rotation_range = 90,\n",
    "                         fill_mode=\"constant\",\n",
    "                         width_shift_range = 0.2,\n",
    "                         zoom_range = 0.2,\n",
    "                         rescale=1./255,\n",
    "                         height_shift_range = 0.2\n",
    "                        )\n",
    "\n",
    "valid_datagen = ImageDataGenerator(rescale=1./255)\n",
    "\n",
    "train_generator = train_datagen.flow_from_directory('train0'+vid[-1], \n",
    "                                                  target_size=(IMG_SIZE,IMG_SIZE),\n",
    "                                                 color_mode='rgb',\n",
    "                                                 batch_size=batch_size,\n",
    "                                                 class_mode='binary',\n",
    "                                                 shuffle=True)\n",
    "valid_generator = valid_datagen.flow_from_directory('valid0'+vid[-1], \n",
    "                                                 target_size=(IMG_SIZE,IMG_SIZE),\n",
    "                                                 color_mode='rgb',\n",
    "                                                 batch_size=batch_size,\n",
    "                                                 class_mode='binary',\n",
    "                                                 shuffle=True)\n"
   ]
  },
  {
   "cell_type": "code",
   "execution_count": 18,
   "metadata": {},
   "outputs": [
    {
     "name": "stdout",
     "output_type": "stream",
     "text": [
      "Found 44 images belonging to 2 classes.\n",
      "6/6 [==============================] - 2s 317ms/step\n",
      "Confusion Matrix:\n",
      "[[18  4]\n",
      " [ 2 20]]\n",
      "Accuracy: 0.8636363636363636\n",
      "ROC AUC score: 0.9524793388429752\n",
      "Precision score: 0.8333333333333334\n",
      "Recall score: 0.9090909090909091\n",
      "F1 score: 0.8695652173913043\n",
      "MCC score: 0.7302967433402214\n"
     ]
    }
   ],
   "source": [
    "# Validation accuracy and validation data confusion matrix\n",
    "\n",
    "import sklearn\n",
    "valid_generator = valid_datagen.flow_from_directory('valid0'+vid[-1], \n",
    "                                                     target_size=(IMG_SIZE,IMG_SIZE),\n",
    "                                                     color_mode='rgb',\n",
    "                                                     batch_size=batch_size,\n",
    "                                                     class_mode='binary',\n",
    "                                                     shuffle=False)\n",
    "\n",
    "# Ref: https://gist.github.com/RyanAkilos/3808c17f79e77c4117de35aa68447045 accessed on 5 Feb 2020\n",
    "from sklearn.metrics import precision_score, recall_score, confusion_matrix, accuracy_score, roc_auc_score, f1_score, matthews_corrcoef\n",
    "\n",
    "\n",
    "Y_pred = model.predict(valid_generator)\n",
    "y_pred=(Y_pred>0.5).astype(int)\n",
    "ras=roc_auc_score(valid_generator.classes, Y_pred)\n",
    "prec=precision_score(valid_generator.classes, y_pred,pos_label=1)\n",
    "rec=recall_score(valid_generator.classes, y_pred,pos_label=1)\n",
    "f1s=f1_score(valid_generator.classes, y_pred,pos_label=1)\n",
    "mcc=matthews_corrcoef(valid_generator.classes, y_pred)\n",
    "\n",
    "print('Confusion Matrix:')\n",
    "print(confusion_matrix(valid_generator.classes, y_pred))\n",
    "print('Accuracy:', accuracy_score(valid_generator.classes, y_pred))\n",
    "print('ROC AUC score:', ras)\n",
    "print('Precision score:', prec)\n",
    "print('Recall score:', rec)\n",
    "print('F1 score:', f1s)\n",
    "print('MCC score:', mcc)"
   ]
  },
  {
   "cell_type": "code",
   "execution_count": null,
   "metadata": {},
   "outputs": [],
   "source": []
  }
 ],
 "metadata": {
  "accelerator": "GPU",
  "colab": {
   "collapsed_sections": [],
   "name": "tis_dens_class_nasnet_imgnt_s16_22may20_gcl_v1.ipynb",
   "provenance": []
  },
  "kernelspec": {
   "display_name": "gpu-tf22",
   "language": "python",
   "name": "tf-gpu22"
  },
  "language_info": {
   "codemirror_mode": {
    "name": "ipython",
    "version": 3
   },
   "file_extension": ".py",
   "mimetype": "text/x-python",
   "name": "python",
   "nbconvert_exporter": "python",
   "pygments_lexer": "ipython3",
   "version": "3.9.13"
  }
 },
 "nbformat": 4,
 "nbformat_minor": 1
}
