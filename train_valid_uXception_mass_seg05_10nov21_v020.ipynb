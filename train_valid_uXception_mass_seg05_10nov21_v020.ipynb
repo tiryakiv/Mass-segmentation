{
 "cells": [
  {
   "cell_type": "code",
   "execution_count": 1,
   "metadata": {},
   "outputs": [],
   "source": [
    "from modelUXception import *\n",
    "from data import *\n",
    "\n",
    "vid=\"v020\" #version id should match the file number \n",
    "# Ran on DellWS with GeForce RTX3060 GPU"
   ]
  },
  {
   "cell_type": "markdown",
   "metadata": {},
   "source": [
    "### Train with data generator"
   ]
  },
  {
   "cell_type": "code",
   "execution_count": 2,
   "metadata": {},
   "outputs": [
    {
     "name": "stderr",
     "output_type": "stream",
     "text": [
      "C:\\Users\\tiryakiv\\miniconda3\\envs\\tf-latest\\lib\\site-packages\\tensorflow\\python\\keras\\engine\\training.py:1940: UserWarning: `Model.fit_generator` is deprecated and will be removed in a future version. Please use `Model.fit`, which supports generators.\n",
      "  warnings.warn('`Model.fit_generator` is deprecated and '\n"
     ]
    },
    {
     "name": "stdout",
     "output_type": "stream",
     "text": [
      "Found 300 images belonging to 1 classes.\n",
      "Found 300 images belonging to 1 classes.\n",
      "Epoch 1/100\n",
      "450/450 [==============================] - ETA: 0s - loss: 0.8542 - acc: 0.9024 - dice_coef: 0.1458Found 52 images belonging to 1 classes.\n",
      "Found 52 images belonging to 1 classes.\n",
      "450/450 [==============================] - 284s 555ms/step - loss: 0.8542 - acc: 0.9024 - dice_coef: 0.1458 - val_loss: 0.7311 - val_acc: 0.9684 - val_dice_coef: 0.2689\n",
      "\n",
      "Epoch 00001: saving model to files05\\unet_mass_seg_v020.hdf5\n"
     ]
    },
    {
     "name": "stderr",
     "output_type": "stream",
     "text": [
      "C:\\Users\\tiryakiv\\miniconda3\\envs\\tf-latest\\lib\\site-packages\\tensorflow\\python\\keras\\utils\\generic_utils.py:494: CustomMaskWarning: Custom mask layers require a config and must override get_config. When loading, the custom mask layer must be passed to the custom_objects argument.\n",
      "  warnings.warn('Custom mask layers require a config and must override '\n"
     ]
    },
    {
     "name": "stdout",
     "output_type": "stream",
     "text": [
      "Epoch 2/100\n",
      "450/450 [==============================] - 245s 545ms/step - loss: 0.7159 - acc: 0.9761 - dice_coef: 0.2841 - val_loss: 0.6474 - val_acc: 0.9852 - val_dice_coef: 0.3526\n",
      "\n",
      "Epoch 00002: saving model to files05\\unet_mass_seg_v020.hdf5\n",
      "Epoch 3/100\n",
      "450/450 [==============================] - 244s 543ms/step - loss: 0.6333 - acc: 0.9806 - dice_coef: 0.3667 - val_loss: 0.6284 - val_acc: 0.9783 - val_dice_coef: 0.3716\n",
      "\n",
      "Epoch 00003: saving model to files05\\unet_mass_seg_v020.hdf5\n",
      "Epoch 4/100\n",
      "450/450 [==============================] - 243s 541ms/step - loss: 0.5640 - acc: 0.9839 - dice_coef: 0.4360 - val_loss: 0.6284 - val_acc: 0.9789 - val_dice_coef: 0.3716\n",
      "\n",
      "Epoch 00004: saving model to files05\\unet_mass_seg_v020.hdf5\n",
      "Epoch 5/100\n",
      "450/450 [==============================] - 244s 542ms/step - loss: 0.5287 - acc: 0.9846 - dice_coef: 0.4713 - val_loss: 0.5457 - val_acc: 0.9809 - val_dice_coef: 0.4543\n",
      "\n",
      "Epoch 00005: saving model to files05\\unet_mass_seg_v020.hdf5\n",
      "Epoch 6/100\n",
      "450/450 [==============================] - 245s 544ms/step - loss: 0.4948 - acc: 0.9855 - dice_coef: 0.5052 - val_loss: 0.6510 - val_acc: 0.9793 - val_dice_coef: 0.3490\n",
      "\n",
      "Epoch 00006: saving model to files05\\unet_mass_seg_v020.hdf5\n",
      "Epoch 7/100\n",
      "450/450 [==============================] - 245s 544ms/step - loss: 0.4654 - acc: 0.9860 - dice_coef: 0.5346 - val_loss: 0.6075 - val_acc: 0.9851 - val_dice_coef: 0.3925\n",
      "\n",
      "Epoch 00007: saving model to files05\\unet_mass_seg_v020.hdf5\n",
      "Epoch 8/100\n",
      "450/450 [==============================] - 245s 543ms/step - loss: 0.4411 - acc: 0.9875 - dice_coef: 0.5589 - val_loss: 0.4568 - val_acc: 0.9817 - val_dice_coef: 0.5432\n",
      "\n",
      "Epoch 00008: saving model to files05\\unet_mass_seg_v020.hdf5\n",
      "Epoch 9/100\n",
      "450/450 [==============================] - 246s 547ms/step - loss: 0.4377 - acc: 0.9870 - dice_coef: 0.5623 - val_loss: 0.6378 - val_acc: 0.9866 - val_dice_coef: 0.3622\n",
      "\n",
      "Epoch 00009: saving model to files05\\unet_mass_seg_v020.hdf5\n",
      "Epoch 10/100\n",
      "450/450 [==============================] - 244s 542ms/step - loss: 0.3993 - acc: 0.9886 - dice_coef: 0.6007 - val_loss: 0.3959 - val_acc: 0.9859 - val_dice_coef: 0.6041\n",
      "\n",
      "Epoch 00010: saving model to files05\\unet_mass_seg_v020.hdf5\n",
      "Epoch 11/100\n",
      "450/450 [==============================] - 245s 544ms/step - loss: 0.4203 - acc: 0.9884 - dice_coef: 0.5797 - val_loss: 0.6317 - val_acc: 0.9818 - val_dice_coef: 0.3683\n",
      "\n",
      "Epoch 00011: saving model to files05\\unet_mass_seg_v020.hdf5\n",
      "Epoch 12/100\n",
      "450/450 [==============================] - 246s 547ms/step - loss: 0.4018 - acc: 0.9887 - dice_coef: 0.5982 - val_loss: 0.4953 - val_acc: 0.9846 - val_dice_coef: 0.5047\n",
      "\n",
      "Epoch 00012: saving model to files05\\unet_mass_seg_v020.hdf5\n",
      "Epoch 13/100\n",
      "450/450 [==============================] - 245s 544ms/step - loss: 0.3997 - acc: 0.9887 - dice_coef: 0.6003 - val_loss: 0.5976 - val_acc: 0.9832 - val_dice_coef: 0.4024\n",
      "\n",
      "Epoch 00013: saving model to files05\\unet_mass_seg_v020.hdf5\n",
      "\n",
      "Epoch 00013: ReduceLROnPlateau reducing learning rate to 9.999999747378752e-06.\n",
      "Epoch 14/100\n",
      "450/450 [==============================] - 244s 543ms/step - loss: 0.3697 - acc: 0.9897 - dice_coef: 0.6303 - val_loss: 0.4746 - val_acc: 0.9867 - val_dice_coef: 0.5254\n",
      "\n",
      "Epoch 00014: saving model to files05\\unet_mass_seg_v020.hdf5\n",
      "Epoch 15/100\n",
      "450/450 [==============================] - 245s 544ms/step - loss: 0.3566 - acc: 0.9898 - dice_coef: 0.6434 - val_loss: 0.5214 - val_acc: 0.9843 - val_dice_coef: 0.4786\n",
      "\n",
      "Epoch 00015: saving model to files05\\unet_mass_seg_v020.hdf5\n",
      "Epoch 00015: early stopping\n"
     ]
    },
    {
     "data": {
      "text/plain": [
       "<tensorflow.python.keras.callbacks.History at 0x1a295cc3e80>"
      ]
     },
     "execution_count": 2,
     "metadata": {},
     "output_type": "execute_result"
    }
   ],
   "source": [
    "from tensorflow.keras.callbacks import ModelCheckpoint, ReduceLROnPlateau, EarlyStopping, CSVLogger\n",
    "\n",
    "#Data augmentation\n",
    "data_gen_args = dict(rotation_range=90,\n",
    "                    width_shift_range=0.2,\n",
    "                    height_shift_range=0.2,\n",
    "                    shear_range=0.2,\n",
    "                    zoom_range=0.2,\n",
    "                    horizontal_flip=True,\n",
    "                    vertical_flip=True,\n",
    "                    fill_mode='wrap')\n",
    "\n",
    "# SETTINGS ***\n",
    "batch_size=2\n",
    "learning_rate=1e-4\n",
    "\n",
    "train_gen = trainGenerator(batch_size,'mass_seg_05/train05','mass_seg','mass_seg_labels',data_gen_args,save_to_dir = None)\n",
    "valid_gen = trainGenerator(batch_size,'mass_seg_05/valid05','mass_seg','mass_seg_labels',data_gen_args,save_to_dir = None)\n",
    "\n",
    "# 300 images are used for training, 52 images for validating, and 60 images for testing\n",
    "train_steps = 300//batch_size\n",
    "valid_steps = 52//batch_size\n",
    "\n",
    "# SETTINGS ***\n",
    "loss=dice_loss\n",
    "steps_per_epoch=3*train_steps\n",
    "num_epochs=100\n",
    "\n",
    "model = UXception(start_neurons=16)\n",
    "\n",
    "opt = tf.keras.optimizers.Adam(learning_rate)\n",
    "metrics = [\"acc\", dice_coef]\n",
    "model.compile(loss=loss, optimizer=opt, metrics=metrics)\n",
    "\n",
    "callbacks = [\n",
    "             ModelCheckpoint('files05/unet_mass_seg_'+vid+'.hdf5', verbose=1, save_best_model=True),\n",
    "             ReduceLROnPlateau(monitor=\"val_loss\", patience=3, factor=0.1, verbose=1, min_lr=1e-8),\n",
    "             CSVLogger(\"files05/data_\"+vid+\".csv\"),\n",
    "             EarlyStopping(monitor=\"val_loss\", patience=5, verbose=1)\n",
    "            ]\n",
    "\n",
    "model.fit_generator(train_gen, validation_data=valid_gen, steps_per_epoch=steps_per_epoch, validation_steps=valid_steps, \n",
    "                    epochs=num_epochs, callbacks=callbacks)\n"
   ]
  },
  {
   "cell_type": "markdown",
   "metadata": {},
   "source": [
    "### validate your model and save predicted results"
   ]
  },
  {
   "cell_type": "code",
   "execution_count": 3,
   "metadata": {},
   "outputs": [
    {
     "name": "stderr",
     "output_type": "stream",
     "text": [
      "C:\\Users\\tiryakiv\\miniconda3\\envs\\tf-latest\\lib\\site-packages\\tensorflow\\python\\keras\\engine\\training.py:2001: UserWarning: `Model.predict_generator` is deprecated and will be removed in a future version. Please use `Model.predict`, which supports generators.\n",
      "  warnings.warn('`Model.predict_generator` is deprecated and '\n"
     ]
    },
    {
     "name": "stdout",
     "output_type": "stream",
     "text": [
      "52/52 [==============================] - 24s 394ms/step\n"
     ]
    },
    {
     "name": "stderr",
     "output_type": "stream",
     "text": [
      "D:\\research\\breastCancer\\mass_seg\\codes\\data.py:110: UserWarning: mass_seg_05/valid05/pred\\0_predict_v020.png is a low contrast image\n",
      "  io.imsave(os.path.join(save_path,\"%d_predict_%s.png\"%(i,vid)),img)\n",
      "D:\\research\\breastCancer\\mass_seg\\codes\\data.py:110: UserWarning: mass_seg_05/valid05/pred\\1_predict_v020.png is a low contrast image\n",
      "  io.imsave(os.path.join(save_path,\"%d_predict_%s.png\"%(i,vid)),img)\n",
      "D:\\research\\breastCancer\\mass_seg\\codes\\data.py:110: UserWarning: mass_seg_05/valid05/pred\\2_predict_v020.png is a low contrast image\n",
      "  io.imsave(os.path.join(save_path,\"%d_predict_%s.png\"%(i,vid)),img)\n",
      "D:\\research\\breastCancer\\mass_seg\\codes\\data.py:110: UserWarning: mass_seg_05/valid05/pred\\3_predict_v020.png is a low contrast image\n",
      "  io.imsave(os.path.join(save_path,\"%d_predict_%s.png\"%(i,vid)),img)\n",
      "D:\\research\\breastCancer\\mass_seg\\codes\\data.py:110: UserWarning: mass_seg_05/valid05/pred\\7_predict_v020.png is a low contrast image\n",
      "  io.imsave(os.path.join(save_path,\"%d_predict_%s.png\"%(i,vid)),img)\n",
      "D:\\research\\breastCancer\\mass_seg\\codes\\data.py:110: UserWarning: mass_seg_05/valid05/pred\\12_predict_v020.png is a low contrast image\n",
      "  io.imsave(os.path.join(save_path,\"%d_predict_%s.png\"%(i,vid)),img)\n",
      "D:\\research\\breastCancer\\mass_seg\\codes\\data.py:110: UserWarning: mass_seg_05/valid05/pred\\14_predict_v020.png is a low contrast image\n",
      "  io.imsave(os.path.join(save_path,\"%d_predict_%s.png\"%(i,vid)),img)\n",
      "D:\\research\\breastCancer\\mass_seg\\codes\\data.py:110: UserWarning: mass_seg_05/valid05/pred\\16_predict_v020.png is a low contrast image\n",
      "  io.imsave(os.path.join(save_path,\"%d_predict_%s.png\"%(i,vid)),img)\n",
      "D:\\research\\breastCancer\\mass_seg\\codes\\data.py:110: UserWarning: mass_seg_05/valid05/pred\\17_predict_v020.png is a low contrast image\n",
      "  io.imsave(os.path.join(save_path,\"%d_predict_%s.png\"%(i,vid)),img)\n",
      "D:\\research\\breastCancer\\mass_seg\\codes\\data.py:110: UserWarning: mass_seg_05/valid05/pred\\18_predict_v020.png is a low contrast image\n",
      "  io.imsave(os.path.join(save_path,\"%d_predict_%s.png\"%(i,vid)),img)\n",
      "D:\\research\\breastCancer\\mass_seg\\codes\\data.py:110: UserWarning: mass_seg_05/valid05/pred\\19_predict_v020.png is a low contrast image\n",
      "  io.imsave(os.path.join(save_path,\"%d_predict_%s.png\"%(i,vid)),img)\n",
      "D:\\research\\breastCancer\\mass_seg\\codes\\data.py:110: UserWarning: mass_seg_05/valid05/pred\\23_predict_v020.png is a low contrast image\n",
      "  io.imsave(os.path.join(save_path,\"%d_predict_%s.png\"%(i,vid)),img)\n",
      "D:\\research\\breastCancer\\mass_seg\\codes\\data.py:110: UserWarning: mass_seg_05/valid05/pred\\24_predict_v020.png is a low contrast image\n",
      "  io.imsave(os.path.join(save_path,\"%d_predict_%s.png\"%(i,vid)),img)\n",
      "D:\\research\\breastCancer\\mass_seg\\codes\\data.py:110: UserWarning: mass_seg_05/valid05/pred\\25_predict_v020.png is a low contrast image\n",
      "  io.imsave(os.path.join(save_path,\"%d_predict_%s.png\"%(i,vid)),img)\n",
      "D:\\research\\breastCancer\\mass_seg\\codes\\data.py:110: UserWarning: mass_seg_05/valid05/pred\\26_predict_v020.png is a low contrast image\n",
      "  io.imsave(os.path.join(save_path,\"%d_predict_%s.png\"%(i,vid)),img)\n",
      "D:\\research\\breastCancer\\mass_seg\\codes\\data.py:110: UserWarning: mass_seg_05/valid05/pred\\27_predict_v020.png is a low contrast image\n",
      "  io.imsave(os.path.join(save_path,\"%d_predict_%s.png\"%(i,vid)),img)\n",
      "D:\\research\\breastCancer\\mass_seg\\codes\\data.py:110: UserWarning: mass_seg_05/valid05/pred\\28_predict_v020.png is a low contrast image\n",
      "  io.imsave(os.path.join(save_path,\"%d_predict_%s.png\"%(i,vid)),img)\n",
      "D:\\research\\breastCancer\\mass_seg\\codes\\data.py:110: UserWarning: mass_seg_05/valid05/pred\\29_predict_v020.png is a low contrast image\n",
      "  io.imsave(os.path.join(save_path,\"%d_predict_%s.png\"%(i,vid)),img)\n",
      "D:\\research\\breastCancer\\mass_seg\\codes\\data.py:110: UserWarning: mass_seg_05/valid05/pred\\32_predict_v020.png is a low contrast image\n",
      "  io.imsave(os.path.join(save_path,\"%d_predict_%s.png\"%(i,vid)),img)\n",
      "D:\\research\\breastCancer\\mass_seg\\codes\\data.py:110: UserWarning: mass_seg_05/valid05/pred\\35_predict_v020.png is a low contrast image\n",
      "  io.imsave(os.path.join(save_path,\"%d_predict_%s.png\"%(i,vid)),img)\n",
      "D:\\research\\breastCancer\\mass_seg\\codes\\data.py:110: UserWarning: mass_seg_05/valid05/pred\\36_predict_v020.png is a low contrast image\n",
      "  io.imsave(os.path.join(save_path,\"%d_predict_%s.png\"%(i,vid)),img)\n",
      "D:\\research\\breastCancer\\mass_seg\\codes\\data.py:110: UserWarning: mass_seg_05/valid05/pred\\38_predict_v020.png is a low contrast image\n",
      "  io.imsave(os.path.join(save_path,\"%d_predict_%s.png\"%(i,vid)),img)\n",
      "D:\\research\\breastCancer\\mass_seg\\codes\\data.py:110: UserWarning: mass_seg_05/valid05/pred\\40_predict_v020.png is a low contrast image\n",
      "  io.imsave(os.path.join(save_path,\"%d_predict_%s.png\"%(i,vid)),img)\n",
      "D:\\research\\breastCancer\\mass_seg\\codes\\data.py:110: UserWarning: mass_seg_05/valid05/pred\\41_predict_v020.png is a low contrast image\n",
      "  io.imsave(os.path.join(save_path,\"%d_predict_%s.png\"%(i,vid)),img)\n",
      "D:\\research\\breastCancer\\mass_seg\\codes\\data.py:110: UserWarning: mass_seg_05/valid05/pred\\43_predict_v020.png is a low contrast image\n",
      "  io.imsave(os.path.join(save_path,\"%d_predict_%s.png\"%(i,vid)),img)\n",
      "D:\\research\\breastCancer\\mass_seg\\codes\\data.py:110: UserWarning: mass_seg_05/valid05/pred\\44_predict_v020.png is a low contrast image\n",
      "  io.imsave(os.path.join(save_path,\"%d_predict_%s.png\"%(i,vid)),img)\n",
      "D:\\research\\breastCancer\\mass_seg\\codes\\data.py:110: UserWarning: mass_seg_05/valid05/pred\\46_predict_v020.png is a low contrast image\n",
      "  io.imsave(os.path.join(save_path,\"%d_predict_%s.png\"%(i,vid)),img)\n",
      "D:\\research\\breastCancer\\mass_seg\\codes\\data.py:110: UserWarning: mass_seg_05/valid05/pred\\47_predict_v020.png is a low contrast image\n",
      "  io.imsave(os.path.join(save_path,\"%d_predict_%s.png\"%(i,vid)),img)\n",
      "D:\\research\\breastCancer\\mass_seg\\codes\\data.py:110: UserWarning: mass_seg_05/valid05/pred\\49_predict_v020.png is a low contrast image\n",
      "  io.imsave(os.path.join(save_path,\"%d_predict_%s.png\"%(i,vid)),img)\n",
      "D:\\research\\breastCancer\\mass_seg\\codes\\data.py:110: UserWarning: mass_seg_05/valid05/pred\\50_predict_v020.png is a low contrast image\n",
      "  io.imsave(os.path.join(save_path,\"%d_predict_%s.png\"%(i,vid)),img)\n"
     ]
    }
   ],
   "source": [
    "validGene = testGenerator(\"mass_seg_05/valid05/pred\")\n",
    "model.load_weights(\"files05/unet_mass_seg_\"+vid+\".hdf5\")\n",
    "results = model.predict_generator(validGene,52,verbose=1)\n",
    "saveResult(\"mass_seg_05/valid05/pred\",results,vid)"
   ]
  },
  {
   "cell_type": "code",
   "execution_count": null,
   "metadata": {},
   "outputs": [],
   "source": []
  }
 ],
 "metadata": {
  "kernelspec": {
   "display_name": "tf-latest",
   "language": "python",
   "name": "tf-latest"
  },
  "language_info": {
   "codemirror_mode": {
    "name": "ipython",
    "version": 3
   },
   "file_extension": ".py",
   "mimetype": "text/x-python",
   "name": "python",
   "nbconvert_exporter": "python",
   "pygments_lexer": "ipython3",
   "version": "3.8.10"
  }
 },
 "nbformat": 4,
 "nbformat_minor": 2
}
