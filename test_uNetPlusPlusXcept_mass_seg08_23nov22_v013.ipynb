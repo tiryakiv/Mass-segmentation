{
 "cells": [
  {
   "cell_type": "code",
   "execution_count": 1,
   "metadata": {},
   "outputs": [],
   "source": [
    "from model_uNetPlusPlusXception import *\n",
    "from data import *\n",
    "\n",
    "vid=\"v013_5\" #UnetPlusPlusXception model 5th valid since this is closest to the mean\n",
    "# Ran on DellWS with GeForce RTX3060 GPU"
   ]
  },
  {
   "cell_type": "code",
   "execution_count": 2,
   "metadata": {},
   "outputs": [
    {
     "name": "stdout",
     "output_type": "stream",
     "text": [
      "60/60 [==============================] - 25s 242ms/step\n"
     ]
    },
    {
     "name": "stderr",
     "output_type": "stream",
     "text": [
      "D:\\research\\breastCancer\\mass_seg\\codes\\data.py:110: UserWarning: mass_seg_08/test/pred\\1_predict_v013.png is a low contrast image\n",
      "  io.imsave(os.path.join(save_path,\"%d_predict_%s.png\"%(i,vid)),img)\n",
      "D:\\research\\breastCancer\\mass_seg\\codes\\data.py:110: UserWarning: mass_seg_08/test/pred\\2_predict_v013.png is a low contrast image\n",
      "  io.imsave(os.path.join(save_path,\"%d_predict_%s.png\"%(i,vid)),img)\n",
      "D:\\research\\breastCancer\\mass_seg\\codes\\data.py:110: UserWarning: mass_seg_08/test/pred\\4_predict_v013.png is a low contrast image\n",
      "  io.imsave(os.path.join(save_path,\"%d_predict_%s.png\"%(i,vid)),img)\n",
      "D:\\research\\breastCancer\\mass_seg\\codes\\data.py:110: UserWarning: mass_seg_08/test/pred\\6_predict_v013.png is a low contrast image\n",
      "  io.imsave(os.path.join(save_path,\"%d_predict_%s.png\"%(i,vid)),img)\n",
      "D:\\research\\breastCancer\\mass_seg\\codes\\data.py:110: UserWarning: mass_seg_08/test/pred\\7_predict_v013.png is a low contrast image\n",
      "  io.imsave(os.path.join(save_path,\"%d_predict_%s.png\"%(i,vid)),img)\n",
      "D:\\research\\breastCancer\\mass_seg\\codes\\data.py:110: UserWarning: mass_seg_08/test/pred\\8_predict_v013.png is a low contrast image\n",
      "  io.imsave(os.path.join(save_path,\"%d_predict_%s.png\"%(i,vid)),img)\n",
      "D:\\research\\breastCancer\\mass_seg\\codes\\data.py:110: UserWarning: mass_seg_08/test/pred\\9_predict_v013.png is a low contrast image\n",
      "  io.imsave(os.path.join(save_path,\"%d_predict_%s.png\"%(i,vid)),img)\n",
      "D:\\research\\breastCancer\\mass_seg\\codes\\data.py:110: UserWarning: mass_seg_08/test/pred\\12_predict_v013.png is a low contrast image\n",
      "  io.imsave(os.path.join(save_path,\"%d_predict_%s.png\"%(i,vid)),img)\n",
      "D:\\research\\breastCancer\\mass_seg\\codes\\data.py:110: UserWarning: mass_seg_08/test/pred\\13_predict_v013.png is a low contrast image\n",
      "  io.imsave(os.path.join(save_path,\"%d_predict_%s.png\"%(i,vid)),img)\n",
      "D:\\research\\breastCancer\\mass_seg\\codes\\data.py:110: UserWarning: mass_seg_08/test/pred\\14_predict_v013.png is a low contrast image\n",
      "  io.imsave(os.path.join(save_path,\"%d_predict_%s.png\"%(i,vid)),img)\n",
      "D:\\research\\breastCancer\\mass_seg\\codes\\data.py:110: UserWarning: mass_seg_08/test/pred\\16_predict_v013.png is a low contrast image\n",
      "  io.imsave(os.path.join(save_path,\"%d_predict_%s.png\"%(i,vid)),img)\n",
      "D:\\research\\breastCancer\\mass_seg\\codes\\data.py:110: UserWarning: mass_seg_08/test/pred\\18_predict_v013.png is a low contrast image\n",
      "  io.imsave(os.path.join(save_path,\"%d_predict_%s.png\"%(i,vid)),img)\n",
      "D:\\research\\breastCancer\\mass_seg\\codes\\data.py:110: UserWarning: mass_seg_08/test/pred\\19_predict_v013.png is a low contrast image\n",
      "  io.imsave(os.path.join(save_path,\"%d_predict_%s.png\"%(i,vid)),img)\n",
      "D:\\research\\breastCancer\\mass_seg\\codes\\data.py:110: UserWarning: mass_seg_08/test/pred\\21_predict_v013.png is a low contrast image\n",
      "  io.imsave(os.path.join(save_path,\"%d_predict_%s.png\"%(i,vid)),img)\n",
      "D:\\research\\breastCancer\\mass_seg\\codes\\data.py:110: UserWarning: mass_seg_08/test/pred\\23_predict_v013.png is a low contrast image\n",
      "  io.imsave(os.path.join(save_path,\"%d_predict_%s.png\"%(i,vid)),img)\n",
      "D:\\research\\breastCancer\\mass_seg\\codes\\data.py:110: UserWarning: mass_seg_08/test/pred\\27_predict_v013.png is a low contrast image\n",
      "  io.imsave(os.path.join(save_path,\"%d_predict_%s.png\"%(i,vid)),img)\n",
      "D:\\research\\breastCancer\\mass_seg\\codes\\data.py:110: UserWarning: mass_seg_08/test/pred\\31_predict_v013.png is a low contrast image\n",
      "  io.imsave(os.path.join(save_path,\"%d_predict_%s.png\"%(i,vid)),img)\n",
      "D:\\research\\breastCancer\\mass_seg\\codes\\data.py:110: UserWarning: mass_seg_08/test/pred\\33_predict_v013.png is a low contrast image\n",
      "  io.imsave(os.path.join(save_path,\"%d_predict_%s.png\"%(i,vid)),img)\n",
      "D:\\research\\breastCancer\\mass_seg\\codes\\data.py:110: UserWarning: mass_seg_08/test/pred\\34_predict_v013.png is a low contrast image\n",
      "  io.imsave(os.path.join(save_path,\"%d_predict_%s.png\"%(i,vid)),img)\n",
      "D:\\research\\breastCancer\\mass_seg\\codes\\data.py:110: UserWarning: mass_seg_08/test/pred\\35_predict_v013.png is a low contrast image\n",
      "  io.imsave(os.path.join(save_path,\"%d_predict_%s.png\"%(i,vid)),img)\n",
      "D:\\research\\breastCancer\\mass_seg\\codes\\data.py:110: UserWarning: mass_seg_08/test/pred\\37_predict_v013.png is a low contrast image\n",
      "  io.imsave(os.path.join(save_path,\"%d_predict_%s.png\"%(i,vid)),img)\n",
      "D:\\research\\breastCancer\\mass_seg\\codes\\data.py:110: UserWarning: mass_seg_08/test/pred\\38_predict_v013.png is a low contrast image\n",
      "  io.imsave(os.path.join(save_path,\"%d_predict_%s.png\"%(i,vid)),img)\n",
      "D:\\research\\breastCancer\\mass_seg\\codes\\data.py:110: UserWarning: mass_seg_08/test/pred\\41_predict_v013.png is a low contrast image\n",
      "  io.imsave(os.path.join(save_path,\"%d_predict_%s.png\"%(i,vid)),img)\n",
      "D:\\research\\breastCancer\\mass_seg\\codes\\data.py:110: UserWarning: mass_seg_08/test/pred\\42_predict_v013.png is a low contrast image\n",
      "  io.imsave(os.path.join(save_path,\"%d_predict_%s.png\"%(i,vid)),img)\n",
      "D:\\research\\breastCancer\\mass_seg\\codes\\data.py:110: UserWarning: mass_seg_08/test/pred\\43_predict_v013.png is a low contrast image\n",
      "  io.imsave(os.path.join(save_path,\"%d_predict_%s.png\"%(i,vid)),img)\n",
      "D:\\research\\breastCancer\\mass_seg\\codes\\data.py:110: UserWarning: mass_seg_08/test/pred\\44_predict_v013.png is a low contrast image\n",
      "  io.imsave(os.path.join(save_path,\"%d_predict_%s.png\"%(i,vid)),img)\n",
      "D:\\research\\breastCancer\\mass_seg\\codes\\data.py:110: UserWarning: mass_seg_08/test/pred\\46_predict_v013.png is a low contrast image\n",
      "  io.imsave(os.path.join(save_path,\"%d_predict_%s.png\"%(i,vid)),img)\n",
      "D:\\research\\breastCancer\\mass_seg\\codes\\data.py:110: UserWarning: mass_seg_08/test/pred\\47_predict_v013.png is a low contrast image\n",
      "  io.imsave(os.path.join(save_path,\"%d_predict_%s.png\"%(i,vid)),img)\n",
      "D:\\research\\breastCancer\\mass_seg\\codes\\data.py:110: UserWarning: mass_seg_08/test/pred\\48_predict_v013.png is a low contrast image\n",
      "  io.imsave(os.path.join(save_path,\"%d_predict_%s.png\"%(i,vid)),img)\n",
      "D:\\research\\breastCancer\\mass_seg\\codes\\data.py:110: UserWarning: mass_seg_08/test/pred\\49_predict_v013.png is a low contrast image\n",
      "  io.imsave(os.path.join(save_path,\"%d_predict_%s.png\"%(i,vid)),img)\n",
      "D:\\research\\breastCancer\\mass_seg\\codes\\data.py:110: UserWarning: mass_seg_08/test/pred\\52_predict_v013.png is a low contrast image\n",
      "  io.imsave(os.path.join(save_path,\"%d_predict_%s.png\"%(i,vid)),img)\n",
      "D:\\research\\breastCancer\\mass_seg\\codes\\data.py:110: UserWarning: mass_seg_08/test/pred\\58_predict_v013.png is a low contrast image\n",
      "  io.imsave(os.path.join(save_path,\"%d_predict_%s.png\"%(i,vid)),img)\n",
      "D:\\research\\breastCancer\\mass_seg\\codes\\data.py:110: UserWarning: mass_seg_08/test/pred\\59_predict_v013.png is a low contrast image\n",
      "  io.imsave(os.path.join(save_path,\"%d_predict_%s.png\"%(i,vid)),img)\n"
     ]
    }
   ],
   "source": [
    "model = uNetPlusPlusXception(num_top_filter=12, deep_supervision = False)\n",
    "validGene = testGenerator(\"mass_seg_08/test/pred\",60)\n",
    "model.load_weights(\"files_mass_seg_xval/unet_mass_seg_\"+vid+\".hdf5\")\n",
    "results = model.predict(validGene,60,verbose=1)\n",
    "saveResult(\"mass_seg_08/test/pred\",results,vid[:4])"
   ]
  }
 ],
 "metadata": {
  "kernelspec": {
   "display_name": "gpu-tf22",
   "language": "python",
   "name": "tf-gpu22"
  },
  "language_info": {
   "codemirror_mode": {
    "name": "ipython",
    "version": 3
   },
   "file_extension": ".py",
   "mimetype": "text/x-python",
   "name": "python",
   "nbconvert_exporter": "python",
   "pygments_lexer": "ipython3",
   "version": "3.9.13"
  }
 },
 "nbformat": 4,
 "nbformat_minor": 2
}
