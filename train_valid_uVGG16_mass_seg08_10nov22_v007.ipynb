{
 "cells": [
  {
   "cell_type": "code",
   "execution_count": 1,
   "metadata": {},
   "outputs": [],
   "source": [
    "from modelUnetVGG16 import *\n",
    "from data import *\n",
    "import os, os.path\n",
    "\n",
    "vid=\"v007_5\" #version id should match the file number. Last number shows the cross-validation fold number\n",
    "# Ran on DellWS with GeForce RTX3060 GPU\n",
    "\n",
    "# Count the number of train and valid files\n",
    "train_dir = 'mass_seg_08/train0'+vid[-1]+'/mg'\n",
    "train_count=len([name for name in os.listdir(train_dir) if os.path.isfile(os.path.join(train_dir, name))])\n",
    "\n",
    "valid_dir = 'mass_seg_08/valid0'+vid[-1]+'/mg'\n",
    "valid_count=len([name for name in os.listdir(valid_dir) if os.path.isfile(os.path.join(valid_dir, name))])"
   ]
  },
  {
   "cell_type": "markdown",
   "metadata": {},
   "source": [
    "### Train with data generator"
   ]
  },
  {
   "cell_type": "code",
   "execution_count": 2,
   "metadata": {},
   "outputs": [
    {
     "name": "stdout",
     "output_type": "stream",
     "text": [
      "Found 283 images belonging to 1 classes.\n"
     ]
    },
    {
     "name": "stderr",
     "output_type": "stream",
     "text": [
      "C:\\Users\\Administrator\\AppData\\Local\\Temp\\ipykernel_19064\\910975809.py:43: UserWarning: `Model.fit_generator` is deprecated and will be removed in a future version. Please use `Model.fit`, which supports generators.\n",
      "  model.fit_generator(train_gen, validation_data=valid_gen, steps_per_epoch=steps_per_epoch, validation_steps=valid_steps,\n"
     ]
    },
    {
     "name": "stdout",
     "output_type": "stream",
     "text": [
      "Found 283 images belonging to 1 classes.\n",
      "Epoch 1/100\n",
      "423/423 [==============================] - ETA: 0s - loss: 0.8592 - acc: 0.8928 - dice_coef: 0.1408 - iou: 0.0823Found 69 images belonging to 1 classes.\n",
      "Found 69 images belonging to 1 classes.\n",
      "\n",
      "Epoch 1: saving model to files_mass_seg_xval\\unet_mass_seg_v007_5.hdf5\n",
      "423/423 [==============================] - 468s 906ms/step - loss: 0.8592 - acc: 0.8928 - dice_coef: 0.1408 - iou: 0.0823 - val_loss: 0.8702 - val_acc: 0.8587 - val_dice_coef: 0.1298 - val_iou: 0.0737 - lr: 1.0000e-04\n",
      "Epoch 2/100\n",
      "423/423 [==============================] - ETA: 0s - loss: 0.7828 - acc: 0.9588 - dice_coef: 0.2171 - iou: 0.1319\n",
      "Epoch 2: saving model to files_mass_seg_xval\\unet_mass_seg_v007_5.hdf5\n",
      "423/423 [==============================] - 346s 818ms/step - loss: 0.7828 - acc: 0.9588 - dice_coef: 0.2171 - iou: 0.1319 - val_loss: 0.8154 - val_acc: 0.9017 - val_dice_coef: 0.1846 - val_iou: 0.1096 - lr: 1.0000e-04\n",
      "Epoch 3/100\n",
      "423/423 [==============================] - ETA: 0s - loss: 0.7272 - acc: 0.9675 - dice_coef: 0.2732 - iou: 0.1725\n",
      "Epoch 3: saving model to files_mass_seg_xval\\unet_mass_seg_v007_5.hdf5\n",
      "423/423 [==============================] - 347s 819ms/step - loss: 0.7272 - acc: 0.9675 - dice_coef: 0.2732 - iou: 0.1725 - val_loss: 0.8317 - val_acc: 0.9817 - val_dice_coef: 0.1683 - val_iou: 0.0980 - lr: 1.0000e-04\n",
      "Epoch 4/100\n",
      "423/423 [==============================] - ETA: 0s - loss: 0.6907 - acc: 0.9707 - dice_coef: 0.3094 - iou: 0.2011\n",
      "Epoch 4: saving model to files_mass_seg_xval\\unet_mass_seg_v007_5.hdf5\n",
      "423/423 [==============================] - 347s 819ms/step - loss: 0.6907 - acc: 0.9707 - dice_coef: 0.3094 - iou: 0.2011 - val_loss: 0.9083 - val_acc: 0.9826 - val_dice_coef: 0.0917 - val_iou: 0.0517 - lr: 1.0000e-04\n",
      "Epoch 5/100\n",
      "423/423 [==============================] - ETA: 0s - loss: 0.6523 - acc: 0.9750 - dice_coef: 0.3475 - iou: 0.2334\n",
      "Epoch 5: saving model to files_mass_seg_xval\\unet_mass_seg_v007_5.hdf5\n",
      "423/423 [==============================] - 347s 819ms/step - loss: 0.6523 - acc: 0.9750 - dice_coef: 0.3475 - iou: 0.2334 - val_loss: 0.6869 - val_acc: 0.9786 - val_dice_coef: 0.3131 - val_iou: 0.2013 - lr: 1.0000e-04\n",
      "Epoch 6/100\n",
      "423/423 [==============================] - ETA: 0s - loss: 0.6340 - acc: 0.9767 - dice_coef: 0.3652 - iou: 0.2477\n",
      "Epoch 6: saving model to files_mass_seg_xval\\unet_mass_seg_v007_5.hdf5\n",
      "423/423 [==============================] - 347s 819ms/step - loss: 0.6340 - acc: 0.9767 - dice_coef: 0.3652 - iou: 0.2477 - val_loss: 0.7333 - val_acc: 0.9831 - val_dice_coef: 0.2667 - val_iou: 0.1742 - lr: 1.0000e-04\n",
      "Epoch 7/100\n",
      "423/423 [==============================] - ETA: 0s - loss: 0.6387 - acc: 0.9775 - dice_coef: 0.3608 - iou: 0.2463\n",
      "Epoch 7: saving model to files_mass_seg_xval\\unet_mass_seg_v007_5.hdf5\n",
      "423/423 [==============================] - 347s 819ms/step - loss: 0.6387 - acc: 0.9775 - dice_coef: 0.3608 - iou: 0.2463 - val_loss: 0.6284 - val_acc: 0.9707 - val_dice_coef: 0.3716 - val_iou: 0.2497 - lr: 1.0000e-04\n",
      "Epoch 8/100\n",
      "423/423 [==============================] - ETA: 0s - loss: 0.6024 - acc: 0.9780 - dice_coef: 0.3978 - iou: 0.2745\n",
      "Epoch 8: saving model to files_mass_seg_xval\\unet_mass_seg_v007_5.hdf5\n",
      "423/423 [==============================] - 347s 819ms/step - loss: 0.6024 - acc: 0.9780 - dice_coef: 0.3978 - iou: 0.2745 - val_loss: 0.7090 - val_acc: 0.9829 - val_dice_coef: 0.2910 - val_iou: 0.1861 - lr: 1.0000e-04\n",
      "Epoch 9/100\n",
      "423/423 [==============================] - ETA: 0s - loss: 0.6010 - acc: 0.9784 - dice_coef: 0.3993 - iou: 0.2742\n",
      "Epoch 9: saving model to files_mass_seg_xval\\unet_mass_seg_v007_5.hdf5\n",
      "423/423 [==============================] - 347s 820ms/step - loss: 0.6010 - acc: 0.9784 - dice_coef: 0.3993 - iou: 0.2742 - val_loss: 0.6088 - val_acc: 0.9814 - val_dice_coef: 0.3912 - val_iou: 0.2779 - lr: 1.0000e-04\n",
      "Epoch 10/100\n",
      "423/423 [==============================] - ETA: 0s - loss: 0.5826 - acc: 0.9814 - dice_coef: 0.4181 - iou: 0.2902\n",
      "Epoch 10: saving model to files_mass_seg_xval\\unet_mass_seg_v007_5.hdf5\n",
      "423/423 [==============================] - 346s 819ms/step - loss: 0.5826 - acc: 0.9814 - dice_coef: 0.4181 - iou: 0.2902 - val_loss: 0.7979 - val_acc: 0.9820 - val_dice_coef: 0.2021 - val_iou: 0.1457 - lr: 1.0000e-04\n",
      "Epoch 11/100\n",
      "423/423 [==============================] - ETA: 0s - loss: 0.5892 - acc: 0.9794 - dice_coef: 0.4107 - iou: 0.2866\n",
      "Epoch 11: saving model to files_mass_seg_xval\\unet_mass_seg_v007_5.hdf5\n",
      "423/423 [==============================] - 346s 817ms/step - loss: 0.5892 - acc: 0.9794 - dice_coef: 0.4107 - iou: 0.2866 - val_loss: 0.5694 - val_acc: 0.9819 - val_dice_coef: 0.4306 - val_iou: 0.3017 - lr: 1.0000e-04\n",
      "Epoch 12/100\n",
      "423/423 [==============================] - ETA: 0s - loss: 0.5767 - acc: 0.9810 - dice_coef: 0.4228 - iou: 0.2968\n",
      "Epoch 12: saving model to files_mass_seg_xval\\unet_mass_seg_v007_5.hdf5\n",
      "423/423 [==============================] - 346s 819ms/step - loss: 0.5767 - acc: 0.9810 - dice_coef: 0.4228 - iou: 0.2968 - val_loss: 0.6297 - val_acc: 0.9848 - val_dice_coef: 0.3703 - val_iou: 0.2657 - lr: 1.0000e-04\n",
      "Epoch 13/100\n",
      "423/423 [==============================] - ETA: 0s - loss: 0.5779 - acc: 0.9791 - dice_coef: 0.4223 - iou: 0.2986\n",
      "Epoch 13: saving model to files_mass_seg_xval\\unet_mass_seg_v007_5.hdf5\n",
      "423/423 [==============================] - 346s 818ms/step - loss: 0.5779 - acc: 0.9791 - dice_coef: 0.4223 - iou: 0.2986 - val_loss: 0.6176 - val_acc: 0.9820 - val_dice_coef: 0.3824 - val_iou: 0.2650 - lr: 1.0000e-04\n",
      "Epoch 14/100\n",
      "423/423 [==============================] - ETA: 0s - loss: 0.5462 - acc: 0.9820 - dice_coef: 0.4540 - iou: 0.3253\n",
      "Epoch 14: saving model to files_mass_seg_xval\\unet_mass_seg_v007_5.hdf5\n",
      "423/423 [==============================] - 346s 819ms/step - loss: 0.5462 - acc: 0.9820 - dice_coef: 0.4540 - iou: 0.3253 - val_loss: 0.5312 - val_acc: 0.9849 - val_dice_coef: 0.4688 - val_iou: 0.3384 - lr: 1.0000e-04\n",
      "Epoch 15/100\n",
      "423/423 [==============================] - ETA: 0s - loss: 0.5473 - acc: 0.9817 - dice_coef: 0.4531 - iou: 0.3266\n",
      "Epoch 15: saving model to files_mass_seg_xval\\unet_mass_seg_v007_5.hdf5\n",
      "423/423 [==============================] - 346s 818ms/step - loss: 0.5473 - acc: 0.9817 - dice_coef: 0.4531 - iou: 0.3266 - val_loss: 0.6476 - val_acc: 0.9834 - val_dice_coef: 0.3524 - val_iou: 0.2402 - lr: 1.0000e-04\n",
      "Epoch 16/100\n",
      "423/423 [==============================] - ETA: 0s - loss: 0.5483 - acc: 0.9823 - dice_coef: 0.4515 - iou: 0.3227\n",
      "Epoch 16: saving model to files_mass_seg_xval\\unet_mass_seg_v007_5.hdf5\n",
      "423/423 [==============================] - 347s 820ms/step - loss: 0.5483 - acc: 0.9823 - dice_coef: 0.4515 - iou: 0.3227 - val_loss: 0.5822 - val_acc: 0.9828 - val_dice_coef: 0.4178 - val_iou: 0.2954 - lr: 1.0000e-04\n",
      "Epoch 17/100\n",
      "423/423 [==============================] - ETA: 0s - loss: 0.5287 - acc: 0.9820 - dice_coef: 0.4712 - iou: 0.3406\n",
      "Epoch 17: saving model to files_mass_seg_xval\\unet_mass_seg_v007_5.hdf5\n",
      "\n",
      "Epoch 17: ReduceLROnPlateau reducing learning rate to 9.999999747378752e-06.\n",
      "423/423 [==============================] - 347s 819ms/step - loss: 0.5287 - acc: 0.9820 - dice_coef: 0.4712 - iou: 0.3406 - val_loss: 0.6273 - val_acc: 0.9848 - val_dice_coef: 0.3727 - val_iou: 0.2750 - lr: 1.0000e-04\n",
      "Epoch 18/100\n",
      "423/423 [==============================] - ETA: 0s - loss: 0.5137 - acc: 0.9832 - dice_coef: 0.4858 - iou: 0.3579\n",
      "Epoch 18: saving model to files_mass_seg_xval\\unet_mass_seg_v007_5.hdf5\n",
      "423/423 [==============================] - 347s 819ms/step - loss: 0.5137 - acc: 0.9832 - dice_coef: 0.4858 - iou: 0.3579 - val_loss: 0.6367 - val_acc: 0.9857 - val_dice_coef: 0.3633 - val_iou: 0.2567 - lr: 1.0000e-05\n",
      "Epoch 19/100\n",
      "423/423 [==============================] - ETA: 0s - loss: 0.4713 - acc: 0.9845 - dice_coef: 0.5280 - iou: 0.3979\n",
      "Epoch 19: saving model to files_mass_seg_xval\\unet_mass_seg_v007_5.hdf5\n",
      "423/423 [==============================] - 347s 819ms/step - loss: 0.4713 - acc: 0.9845 - dice_coef: 0.5280 - iou: 0.3979 - val_loss: 0.6354 - val_acc: 0.9853 - val_dice_coef: 0.3646 - val_iou: 0.2567 - lr: 1.0000e-05\n",
      "Epoch 19: early stopping\n"
     ]
    },
    {
     "data": {
      "text/plain": [
       "<keras.callbacks.History at 0x12d13d88e50>"
      ]
     },
     "execution_count": 2,
     "metadata": {},
     "output_type": "execute_result"
    }
   ],
   "source": [
    "from tensorflow.keras.callbacks import ModelCheckpoint, ReduceLROnPlateau, EarlyStopping, CSVLogger\n",
    "\n",
    "#Data augmentation\n",
    "data_gen_args = dict(rotation_range=90,\n",
    "                    width_shift_range=0.2,\n",
    "                    height_shift_range=0.2,\n",
    "                    shear_range=0.2,\n",
    "                    zoom_range=0.2,\n",
    "                    horizontal_flip=True,\n",
    "                    vertical_flip=True,\n",
    "                    fill_mode='wrap')\n",
    "\n",
    "# SETTINGS ***\n",
    "batch_size=2\n",
    "learning_rate=1e-4\n",
    "\n",
    "train_gen = trainGenerator(batch_size,'mass_seg_08/train0'+vid[-1],'mg','mask',data_gen_args,save_to_dir = None)\n",
    "valid_gen = trainGenerator(batch_size,'mass_seg_08/valid0'+vid[-1],'mg','mask',data_gen_args,save_to_dir = None)\n",
    "\n",
    "# train_count images are used for training, valid_count images for validating\n",
    "train_steps = train_count//batch_size\n",
    "valid_steps = valid_count//batch_size\n",
    "\n",
    "# SETTINGS ***\n",
    "loss=dice_loss\n",
    "steps_per_epoch=3*train_steps\n",
    "num_epochs=100\n",
    "#num_top_filter=16\n",
    "\n",
    "model = build_vgg16_unet()\n",
    "\n",
    "opt = tf.keras.optimizers.Adam(learning_rate)\n",
    "metrics = [\"acc\", dice_coef, iou]\n",
    "model.compile(loss=loss, optimizer=opt, metrics=metrics)\n",
    "\n",
    "callbacks = [\n",
    "             ModelCheckpoint('files_mass_seg_xval/unet_mass_seg_'+vid+'.hdf5', verbose=1, save_best_model=True),\n",
    "             ReduceLROnPlateau(monitor=\"val_loss\", patience=3, factor=0.1, verbose=1, min_lr=1e-8),\n",
    "             CSVLogger(\"files_mass_seg_xval/data_\"+vid+\".csv\"),\n",
    "             EarlyStopping(monitor=\"val_loss\", patience=5, verbose=1)\n",
    "            ]\n",
    "\n",
    "model.fit_generator(train_gen, validation_data=valid_gen, steps_per_epoch=steps_per_epoch, validation_steps=valid_steps, \n",
    "                    epochs=num_epochs, callbacks=callbacks)\n"
   ]
  },
  {
   "cell_type": "markdown",
   "metadata": {},
   "source": [
    "### validate your model and save predicted results"
   ]
  },
  {
   "cell_type": "code",
   "execution_count": 3,
   "metadata": {},
   "outputs": [
    {
     "name": "stderr",
     "output_type": "stream",
     "text": [
      "C:\\Users\\Administrator\\AppData\\Local\\Temp\\ipykernel_19064\\2576895886.py:3: UserWarning: `Model.predict_generator` is deprecated and will be removed in a future version. Please use `Model.predict`, which supports generators.\n",
      "  results = model.predict_generator(validGene,valid_count,verbose=1)\n"
     ]
    },
    {
     "name": "stdout",
     "output_type": "stream",
     "text": [
      "69/69 [==============================] - 15s 207ms/step\n"
     ]
    },
    {
     "name": "stderr",
     "output_type": "stream",
     "text": [
      "D:\\research\\breastCancer\\mass_seg\\codes\\data.py:110: UserWarning: mass_seg_08/valid05/pred\\1_predict_v007.png is a low contrast image\n",
      "  io.imsave(os.path.join(save_path,\"%d_predict_%s.png\"%(i,vid)),img)\n",
      "D:\\research\\breastCancer\\mass_seg\\codes\\data.py:110: UserWarning: mass_seg_08/valid05/pred\\3_predict_v007.png is a low contrast image\n",
      "  io.imsave(os.path.join(save_path,\"%d_predict_%s.png\"%(i,vid)),img)\n",
      "D:\\research\\breastCancer\\mass_seg\\codes\\data.py:110: UserWarning: mass_seg_08/valid05/pred\\4_predict_v007.png is a low contrast image\n",
      "  io.imsave(os.path.join(save_path,\"%d_predict_%s.png\"%(i,vid)),img)\n",
      "D:\\research\\breastCancer\\mass_seg\\codes\\data.py:110: UserWarning: mass_seg_08/valid05/pred\\5_predict_v007.png is a low contrast image\n",
      "  io.imsave(os.path.join(save_path,\"%d_predict_%s.png\"%(i,vid)),img)\n",
      "D:\\research\\breastCancer\\mass_seg\\codes\\data.py:110: UserWarning: mass_seg_08/valid05/pred\\6_predict_v007.png is a low contrast image\n",
      "  io.imsave(os.path.join(save_path,\"%d_predict_%s.png\"%(i,vid)),img)\n",
      "D:\\research\\breastCancer\\mass_seg\\codes\\data.py:110: UserWarning: mass_seg_08/valid05/pred\\9_predict_v007.png is a low contrast image\n",
      "  io.imsave(os.path.join(save_path,\"%d_predict_%s.png\"%(i,vid)),img)\n",
      "D:\\research\\breastCancer\\mass_seg\\codes\\data.py:110: UserWarning: mass_seg_08/valid05/pred\\10_predict_v007.png is a low contrast image\n",
      "  io.imsave(os.path.join(save_path,\"%d_predict_%s.png\"%(i,vid)),img)\n",
      "D:\\research\\breastCancer\\mass_seg\\codes\\data.py:110: UserWarning: mass_seg_08/valid05/pred\\11_predict_v007.png is a low contrast image\n",
      "  io.imsave(os.path.join(save_path,\"%d_predict_%s.png\"%(i,vid)),img)\n",
      "D:\\research\\breastCancer\\mass_seg\\codes\\data.py:110: UserWarning: mass_seg_08/valid05/pred\\13_predict_v007.png is a low contrast image\n",
      "  io.imsave(os.path.join(save_path,\"%d_predict_%s.png\"%(i,vid)),img)\n",
      "D:\\research\\breastCancer\\mass_seg\\codes\\data.py:110: UserWarning: mass_seg_08/valid05/pred\\14_predict_v007.png is a low contrast image\n",
      "  io.imsave(os.path.join(save_path,\"%d_predict_%s.png\"%(i,vid)),img)\n",
      "D:\\research\\breastCancer\\mass_seg\\codes\\data.py:110: UserWarning: mass_seg_08/valid05/pred\\16_predict_v007.png is a low contrast image\n",
      "  io.imsave(os.path.join(save_path,\"%d_predict_%s.png\"%(i,vid)),img)\n",
      "D:\\research\\breastCancer\\mass_seg\\codes\\data.py:110: UserWarning: mass_seg_08/valid05/pred\\19_predict_v007.png is a low contrast image\n",
      "  io.imsave(os.path.join(save_path,\"%d_predict_%s.png\"%(i,vid)),img)\n",
      "D:\\research\\breastCancer\\mass_seg\\codes\\data.py:110: UserWarning: mass_seg_08/valid05/pred\\22_predict_v007.png is a low contrast image\n",
      "  io.imsave(os.path.join(save_path,\"%d_predict_%s.png\"%(i,vid)),img)\n",
      "D:\\research\\breastCancer\\mass_seg\\codes\\data.py:110: UserWarning: mass_seg_08/valid05/pred\\23_predict_v007.png is a low contrast image\n",
      "  io.imsave(os.path.join(save_path,\"%d_predict_%s.png\"%(i,vid)),img)\n",
      "D:\\research\\breastCancer\\mass_seg\\codes\\data.py:110: UserWarning: mass_seg_08/valid05/pred\\28_predict_v007.png is a low contrast image\n",
      "  io.imsave(os.path.join(save_path,\"%d_predict_%s.png\"%(i,vid)),img)\n",
      "D:\\research\\breastCancer\\mass_seg\\codes\\data.py:110: UserWarning: mass_seg_08/valid05/pred\\29_predict_v007.png is a low contrast image\n",
      "  io.imsave(os.path.join(save_path,\"%d_predict_%s.png\"%(i,vid)),img)\n",
      "D:\\research\\breastCancer\\mass_seg\\codes\\data.py:110: UserWarning: mass_seg_08/valid05/pred\\30_predict_v007.png is a low contrast image\n",
      "  io.imsave(os.path.join(save_path,\"%d_predict_%s.png\"%(i,vid)),img)\n",
      "D:\\research\\breastCancer\\mass_seg\\codes\\data.py:110: UserWarning: mass_seg_08/valid05/pred\\31_predict_v007.png is a low contrast image\n",
      "  io.imsave(os.path.join(save_path,\"%d_predict_%s.png\"%(i,vid)),img)\n",
      "D:\\research\\breastCancer\\mass_seg\\codes\\data.py:110: UserWarning: mass_seg_08/valid05/pred\\32_predict_v007.png is a low contrast image\n",
      "  io.imsave(os.path.join(save_path,\"%d_predict_%s.png\"%(i,vid)),img)\n",
      "D:\\research\\breastCancer\\mass_seg\\codes\\data.py:110: UserWarning: mass_seg_08/valid05/pred\\35_predict_v007.png is a low contrast image\n",
      "  io.imsave(os.path.join(save_path,\"%d_predict_%s.png\"%(i,vid)),img)\n",
      "D:\\research\\breastCancer\\mass_seg\\codes\\data.py:110: UserWarning: mass_seg_08/valid05/pred\\37_predict_v007.png is a low contrast image\n",
      "  io.imsave(os.path.join(save_path,\"%d_predict_%s.png\"%(i,vid)),img)\n",
      "D:\\research\\breastCancer\\mass_seg\\codes\\data.py:110: UserWarning: mass_seg_08/valid05/pred\\41_predict_v007.png is a low contrast image\n",
      "  io.imsave(os.path.join(save_path,\"%d_predict_%s.png\"%(i,vid)),img)\n",
      "D:\\research\\breastCancer\\mass_seg\\codes\\data.py:110: UserWarning: mass_seg_08/valid05/pred\\42_predict_v007.png is a low contrast image\n",
      "  io.imsave(os.path.join(save_path,\"%d_predict_%s.png\"%(i,vid)),img)\n",
      "D:\\research\\breastCancer\\mass_seg\\codes\\data.py:110: UserWarning: mass_seg_08/valid05/pred\\43_predict_v007.png is a low contrast image\n",
      "  io.imsave(os.path.join(save_path,\"%d_predict_%s.png\"%(i,vid)),img)\n",
      "D:\\research\\breastCancer\\mass_seg\\codes\\data.py:110: UserWarning: mass_seg_08/valid05/pred\\44_predict_v007.png is a low contrast image\n",
      "  io.imsave(os.path.join(save_path,\"%d_predict_%s.png\"%(i,vid)),img)\n",
      "D:\\research\\breastCancer\\mass_seg\\codes\\data.py:110: UserWarning: mass_seg_08/valid05/pred\\46_predict_v007.png is a low contrast image\n",
      "  io.imsave(os.path.join(save_path,\"%d_predict_%s.png\"%(i,vid)),img)\n",
      "D:\\research\\breastCancer\\mass_seg\\codes\\data.py:110: UserWarning: mass_seg_08/valid05/pred\\49_predict_v007.png is a low contrast image\n",
      "  io.imsave(os.path.join(save_path,\"%d_predict_%s.png\"%(i,vid)),img)\n",
      "D:\\research\\breastCancer\\mass_seg\\codes\\data.py:110: UserWarning: mass_seg_08/valid05/pred\\50_predict_v007.png is a low contrast image\n",
      "  io.imsave(os.path.join(save_path,\"%d_predict_%s.png\"%(i,vid)),img)\n",
      "D:\\research\\breastCancer\\mass_seg\\codes\\data.py:110: UserWarning: mass_seg_08/valid05/pred\\52_predict_v007.png is a low contrast image\n",
      "  io.imsave(os.path.join(save_path,\"%d_predict_%s.png\"%(i,vid)),img)\n",
      "D:\\research\\breastCancer\\mass_seg\\codes\\data.py:110: UserWarning: mass_seg_08/valid05/pred\\53_predict_v007.png is a low contrast image\n",
      "  io.imsave(os.path.join(save_path,\"%d_predict_%s.png\"%(i,vid)),img)\n",
      "D:\\research\\breastCancer\\mass_seg\\codes\\data.py:110: UserWarning: mass_seg_08/valid05/pred\\54_predict_v007.png is a low contrast image\n",
      "  io.imsave(os.path.join(save_path,\"%d_predict_%s.png\"%(i,vid)),img)\n",
      "D:\\research\\breastCancer\\mass_seg\\codes\\data.py:110: UserWarning: mass_seg_08/valid05/pred\\55_predict_v007.png is a low contrast image\n",
      "  io.imsave(os.path.join(save_path,\"%d_predict_%s.png\"%(i,vid)),img)\n",
      "D:\\research\\breastCancer\\mass_seg\\codes\\data.py:110: UserWarning: mass_seg_08/valid05/pred\\57_predict_v007.png is a low contrast image\n",
      "  io.imsave(os.path.join(save_path,\"%d_predict_%s.png\"%(i,vid)),img)\n",
      "D:\\research\\breastCancer\\mass_seg\\codes\\data.py:110: UserWarning: mass_seg_08/valid05/pred\\58_predict_v007.png is a low contrast image\n",
      "  io.imsave(os.path.join(save_path,\"%d_predict_%s.png\"%(i,vid)),img)\n",
      "D:\\research\\breastCancer\\mass_seg\\codes\\data.py:110: UserWarning: mass_seg_08/valid05/pred\\59_predict_v007.png is a low contrast image\n",
      "  io.imsave(os.path.join(save_path,\"%d_predict_%s.png\"%(i,vid)),img)\n",
      "D:\\research\\breastCancer\\mass_seg\\codes\\data.py:110: UserWarning: mass_seg_08/valid05/pred\\60_predict_v007.png is a low contrast image\n",
      "  io.imsave(os.path.join(save_path,\"%d_predict_%s.png\"%(i,vid)),img)\n",
      "D:\\research\\breastCancer\\mass_seg\\codes\\data.py:110: UserWarning: mass_seg_08/valid05/pred\\62_predict_v007.png is a low contrast image\n",
      "  io.imsave(os.path.join(save_path,\"%d_predict_%s.png\"%(i,vid)),img)\n"
     ]
    }
   ],
   "source": [
    "validGene = testGenerator(\"mass_seg_08/valid0\"+vid[-1]+\"/pred\")\n",
    "model.load_weights(\"files_mass_seg_xval/unet_mass_seg_\"+vid+\".hdf5\")\n",
    "results = model.predict_generator(validGene,valid_count,verbose=1)\n",
    "saveResult(\"mass_seg_08/valid0\"+vid[-1]+\"/pred\",results,vid[:4])"
   ]
  },
  {
   "cell_type": "code",
   "execution_count": null,
   "metadata": {},
   "outputs": [],
   "source": []
  }
 ],
 "metadata": {
  "kernelspec": {
   "display_name": "gpu-tf22",
   "language": "python",
   "name": "tf-gpu22"
  },
  "language_info": {
   "codemirror_mode": {
    "name": "ipython",
    "version": 3
   },
   "file_extension": ".py",
   "mimetype": "text/x-python",
   "name": "python",
   "nbconvert_exporter": "python",
   "pygments_lexer": "ipython3",
   "version": "3.9.13"
  }
 },
 "nbformat": 4,
 "nbformat_minor": 2
}
