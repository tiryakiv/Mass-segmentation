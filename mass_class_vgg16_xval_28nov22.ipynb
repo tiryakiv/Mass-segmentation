{
 "cells": [
  {
   "cell_type": "code",
   "execution_count": 1,
   "metadata": {},
   "outputs": [],
   "source": [
    "#!pip install opencv-python"
   ]
  },
  {
   "cell_type": "code",
   "execution_count": 2,
   "metadata": {},
   "outputs": [],
   "source": [
    "# TRANSFER LEARNING FINE TUNING -  MASS CLASSIFICATION USING SEGMENTATION MODEL OUTPUT BCDR MASS LESION\n",
    "import numpy as np\n",
    "import tensorflow.keras\n",
    "import keras\n",
    "from tensorflow.keras.preprocessing.image import ImageDataGenerator\n",
    "from tensorflow.keras.callbacks import EarlyStopping, ModelCheckpoint, ReduceLROnPlateau\n",
    "#from tensorflow.keras.utils import np_utils\n",
    "#%matplotlib inline\n",
    "keras.backend.set_image_data_format('channels_last')\n",
    "import tensorflow as tf\n",
    "#import pandas as pd\n",
    "import os\n",
    "#import matplotlib.pyplot as plt\n",
    "#from tensorflow.python.keras.preprocessing import image\n",
    "from tensorflow.keras.optimizers import Adam\n",
    "from sklearn import metrics\n",
    "from tensorflow.keras.layers import ReLU\n",
    "from tensorflow.keras.layers import Input, Flatten, Dense, Dropout, Convolution2D, Conv2D, MaxPooling2D, Lambda, GlobalMaxPooling2D, GlobalAveragePooling2D, BatchNormalization, Activation\n",
    "from tensorflow.keras import Sequential, Model\n",
    "\n",
    "vid='v002_5' #last number is the cross-validation fold number"
   ]
  },
  {
   "cell_type": "code",
   "execution_count": 3,
   "metadata": {
    "colab": {
     "base_uri": "https://localhost:8080/",
     "height": 50
    },
    "colab_type": "code",
    "id": "EUEeEJIobZL9",
    "outputId": "345cb610-e7a7-4a46-b8bf-a14db960a4c1"
   },
   "outputs": [],
   "source": [
    "# Create CNN\n",
    "\n",
    "IMG_SIZE=224\n",
    "\n",
    "from tensorflow.keras.applications.vgg16 import VGG16\n",
    "base_model=VGG16(weights='imagenet',include_top=False, input_shape=(IMG_SIZE,IMG_SIZE,3))\n",
    "\n",
    "for layer in base_model.layers:\n",
    "    layer.trainable=False\n",
    "\n",
    "x=base_model.output\n",
    "x=GlobalAveragePooling2D()(x)\n",
    "x=Dense(256)(x)\n",
    "x=ReLU()(x)\n",
    "x=Dropout(0.5)(x)\n",
    "x=Dense(128)(x) \n",
    "x=ReLU()(x)\n",
    "preds=Dense(1,activation='sigmoid')(x)\n",
    "\n",
    "model=Model(inputs=base_model.input,outputs=preds)"
   ]
  },
  {
   "cell_type": "code",
   "execution_count": 4,
   "metadata": {
    "colab": {
     "base_uri": "https://localhost:8080/",
     "height": 1000
    },
    "colab_type": "code",
    "id": "xd-IqGESbZMD",
    "outputId": "4590ac48-4e1c-4e41-b2a3-d67fac97b568"
   },
   "outputs": [
    {
     "name": "stdout",
     "output_type": "stream",
     "text": [
      "Model: \"model\"\n",
      "_________________________________________________________________\n",
      " Layer (type)                Output Shape              Param #   \n",
      "=================================================================\n",
      " input_1 (InputLayer)        [(None, 224, 224, 3)]     0         \n",
      "                                                                 \n",
      " block1_conv1 (Conv2D)       (None, 224, 224, 64)      1792      \n",
      "                                                                 \n",
      " block1_conv2 (Conv2D)       (None, 224, 224, 64)      36928     \n",
      "                                                                 \n",
      " block1_pool (MaxPooling2D)  (None, 112, 112, 64)      0         \n",
      "                                                                 \n",
      " block2_conv1 (Conv2D)       (None, 112, 112, 128)     73856     \n",
      "                                                                 \n",
      " block2_conv2 (Conv2D)       (None, 112, 112, 128)     147584    \n",
      "                                                                 \n",
      " block2_pool (MaxPooling2D)  (None, 56, 56, 128)       0         \n",
      "                                                                 \n",
      " block3_conv1 (Conv2D)       (None, 56, 56, 256)       295168    \n",
      "                                                                 \n",
      " block3_conv2 (Conv2D)       (None, 56, 56, 256)       590080    \n",
      "                                                                 \n",
      " block3_conv3 (Conv2D)       (None, 56, 56, 256)       590080    \n",
      "                                                                 \n",
      " block3_pool (MaxPooling2D)  (None, 28, 28, 256)       0         \n",
      "                                                                 \n",
      " block4_conv1 (Conv2D)       (None, 28, 28, 512)       1180160   \n",
      "                                                                 \n",
      " block4_conv2 (Conv2D)       (None, 28, 28, 512)       2359808   \n",
      "                                                                 \n",
      " block4_conv3 (Conv2D)       (None, 28, 28, 512)       2359808   \n",
      "                                                                 \n",
      " block4_pool (MaxPooling2D)  (None, 14, 14, 512)       0         \n",
      "                                                                 \n",
      " block5_conv1 (Conv2D)       (None, 14, 14, 512)       2359808   \n",
      "                                                                 \n",
      " block5_conv2 (Conv2D)       (None, 14, 14, 512)       2359808   \n",
      "                                                                 \n",
      " block5_conv3 (Conv2D)       (None, 14, 14, 512)       2359808   \n",
      "                                                                 \n",
      " block5_pool (MaxPooling2D)  (None, 7, 7, 512)         0         \n",
      "                                                                 \n",
      " global_average_pooling2d (G  (None, 512)              0         \n",
      " lobalAveragePooling2D)                                          \n",
      "                                                                 \n",
      " dense (Dense)               (None, 256)               131328    \n",
      "                                                                 \n",
      " re_lu (ReLU)                (None, 256)               0         \n",
      "                                                                 \n",
      " dropout (Dropout)           (None, 256)               0         \n",
      "                                                                 \n",
      " dense_1 (Dense)             (None, 128)               32896     \n",
      "                                                                 \n",
      " re_lu_1 (ReLU)              (None, 128)               0         \n",
      "                                                                 \n",
      " dense_2 (Dense)             (None, 1)                 129       \n",
      "                                                                 \n",
      "=================================================================\n",
      "Total params: 14,879,041\n",
      "Trainable params: 164,353\n",
      "Non-trainable params: 14,714,688\n",
      "_________________________________________________________________\n"
     ]
    }
   ],
   "source": [
    "model.summary()"
   ]
  },
  {
   "cell_type": "code",
   "execution_count": 5,
   "metadata": {
    "colab": {
     "base_uri": "https://localhost:8080/",
     "height": 34
    },
    "colab_type": "code",
    "id": "QjgKhigkbZMJ",
    "outputId": "b249938d-06da-4558-9bbc-70953f25ac01"
   },
   "outputs": [
    {
     "data": {
      "text/plain": [
       "26"
      ]
     },
     "execution_count": 5,
     "metadata": {},
     "output_type": "execute_result"
    }
   ],
   "source": [
    "len(model.layers)"
   ]
  },
  {
   "cell_type": "code",
   "execution_count": 6,
   "metadata": {
    "colab": {},
    "colab_type": "code",
    "id": "7YxudRQjbZMP"
   },
   "outputs": [],
   "source": [
    "model.compile(optimizer=tensorflow.keras.optimizers.Adam(learning_rate=1e-3), loss='binary_crossentropy', metrics=['accuracy']) "
   ]
  },
  {
   "cell_type": "code",
   "execution_count": 7,
   "metadata": {
    "colab": {
     "base_uri": "https://localhost:8080/",
     "height": 229
    },
    "colab_type": "code",
    "id": "ZZz5QreQbZMa",
    "outputId": "96386a44-65c1-4091-9a51-5418f3fe8758"
   },
   "outputs": [
    {
     "name": "stdout",
     "output_type": "stream",
     "text": [
      "Found 184 images belonging to 2 classes.\n",
      "Found 44 images belonging to 2 classes.\n"
     ]
    }
   ],
   "source": [
    "# Image preprocessing and data augmentation\n",
    "import cv2\n",
    "\n",
    "batch_size=8\n",
    "\n",
    "train_datagen = ImageDataGenerator(\n",
    "                         horizontal_flip = True,\n",
    "                         vertical_flip = True,\n",
    "                         rotation_range = 90,\n",
    "                         fill_mode=\"constant\",\n",
    "                         width_shift_range = 0.2,\n",
    "                         zoom_range = 0.2,\n",
    "                         rescale=1./255,\n",
    "                         height_shift_range = 0.2\n",
    "                        )\n",
    "\n",
    "valid_datagen = ImageDataGenerator(rescale=1./255)\n",
    "\n",
    "train_generator = train_datagen.flow_from_directory('train0'+vid[-1], \n",
    "                                                  target_size=(IMG_SIZE,IMG_SIZE),\n",
    "                                                 color_mode='rgb',\n",
    "                                                 batch_size=batch_size,\n",
    "                                                 class_mode='binary',\n",
    "                                                 shuffle=True)\n",
    "valid_generator = valid_datagen.flow_from_directory('valid0'+vid[-1], \n",
    "                                                 target_size=(IMG_SIZE,IMG_SIZE),\n",
    "                                                 color_mode='rgb',\n",
    "                                                 batch_size=batch_size,\n",
    "                                                 class_mode='binary',\n",
    "                                                 shuffle=True)\n"
   ]
  },
  {
   "cell_type": "code",
   "execution_count": 8,
   "metadata": {
    "colab": {},
    "colab_type": "code",
    "id": "aIv76Fw2bZMh"
   },
   "outputs": [],
   "source": [
    "#Callbacks\n",
    "def get_callbacks(name_weights, patience_lr, patience):\n",
    "    mcp_save = ModelCheckpoint(name_weights, save_best_only=True, monitor='val_loss', mode='min')\n",
    "    reduce_lr_loss = ReduceLROnPlateau(monitor='loss', factor=0.1, patience=patience_lr, verbose=2, min_delta=1e-4, mode='min')\n",
    "    early_stop_cr=EarlyStopping(monitor='val_loss', min_delta=1e-4, patience=patience, verbose=2, mode='auto', restore_best_weights=True)\n",
    "    return [mcp_save, reduce_lr_loss, early_stop_cr]\n"
   ]
  },
  {
   "cell_type": "code",
   "execution_count": 9,
   "metadata": {
    "colab": {
     "base_uri": "https://localhost:8080/",
     "height": 185
    },
    "colab_type": "code",
    "id": "tXcGLoATbZMn",
    "outputId": "a1a6c747-b267-45a8-9b4e-336f77b624cb"
   },
   "outputs": [
    {
     "name": "stderr",
     "output_type": "stream",
     "text": [
      "C:\\Users\\Administrator\\AppData\\Local\\Temp\\ipykernel_16036\\4267203303.py:8: UserWarning: `Model.fit_generator` is deprecated and will be removed in a future version. Please use `Model.fit`, which supports generators.\n",
      "  model.fit_generator(generator=train_generator,\n"
     ]
    },
    {
     "name": "stdout",
     "output_type": "stream",
     "text": [
      "Epoch 1/3\n",
      "23/23 [==============================] - 15s 215ms/step - loss: 0.7262 - accuracy: 0.5217 - val_loss: 0.6618 - val_accuracy: 0.7500 - lr: 0.0010\n",
      "Epoch 2/3\n",
      "23/23 [==============================] - 4s 177ms/step - loss: 0.6934 - accuracy: 0.5109 - val_loss: 0.6357 - val_accuracy: 0.7250 - lr: 0.0010\n",
      "Epoch 3/3\n",
      "23/23 [==============================] - 4s 169ms/step - loss: 0.6586 - accuracy: 0.6141 - val_loss: 0.5698 - val_accuracy: 0.7250 - lr: 0.0010\n"
     ]
    },
    {
     "data": {
      "text/plain": [
       "<keras.callbacks.History at 0x226736a4af0>"
      ]
     },
     "execution_count": 9,
     "metadata": {},
     "output_type": "execute_result"
    }
   ],
   "source": [
    "#Training stage 1\n",
    "step_size_train=train_generator.n//train_generator.batch_size\n",
    "step_size_valid=valid_generator.n//valid_generator.batch_size\n",
    "\n",
    "name_weights = \"mass_class_VGG16_v002_\"+vid[-1]+\".h5\"\n",
    "callbacks = get_callbacks(name_weights = name_weights, patience_lr=10, patience=10) # do not reduce LR here\n",
    "\n",
    "model.fit_generator(generator=train_generator,\n",
    "                    steps_per_epoch=step_size_train,\n",
    "                    validation_steps=step_size_valid,\n",
    "                    validation_data=valid_generator,\n",
    "                    epochs=3,\n",
    "                    verbose=1,\n",
    "                    callbacks = callbacks)  "
   ]
  },
  {
   "cell_type": "code",
   "execution_count": 10,
   "metadata": {
    "colab": {
     "base_uri": "https://localhost:8080/",
     "height": 370
    },
    "colab_type": "code",
    "id": "tIYJCopKbZMt",
    "outputId": "78fc7c72-2a3f-496d-9921-80cdd13fcf9e"
   },
   "outputs": [
    {
     "name": "stderr",
     "output_type": "stream",
     "text": [
      "C:\\Users\\Administrator\\AppData\\Local\\Temp\\ipykernel_16036\\2189440975.py:13: UserWarning: `Model.fit_generator` is deprecated and will be removed in a future version. Please use `Model.fit`, which supports generators.\n",
      "  model.fit_generator(generator=train_generator,\n"
     ]
    },
    {
     "name": "stdout",
     "output_type": "stream",
     "text": [
      "Epoch 1/10\n",
      "23/23 [==============================] - 6s 203ms/step - loss: 0.6054 - accuracy: 0.6685 - val_loss: 0.5778 - val_accuracy: 0.6750 - lr: 1.0000e-04\n",
      "Epoch 2/10\n",
      "23/23 [==============================] - 4s 169ms/step - loss: 0.6186 - accuracy: 0.6576 - val_loss: 0.5588 - val_accuracy: 0.7250 - lr: 1.0000e-04\n",
      "Epoch 3/10\n",
      "23/23 [==============================] - 4s 171ms/step - loss: 0.6269 - accuracy: 0.6848 - val_loss: 0.5510 - val_accuracy: 0.7000 - lr: 1.0000e-04\n",
      "Epoch 4/10\n",
      "23/23 [==============================] - 4s 175ms/step - loss: 0.5997 - accuracy: 0.6576 - val_loss: 0.5190 - val_accuracy: 0.7500 - lr: 1.0000e-04\n",
      "Epoch 5/10\n",
      "23/23 [==============================] - 3s 143ms/step - loss: 0.6050 - accuracy: 0.6685 - val_loss: 0.5372 - val_accuracy: 0.7250 - lr: 1.0000e-04\n",
      "Epoch 6/10\n",
      "23/23 [==============================] - 3s 137ms/step - loss: 0.6078 - accuracy: 0.6739 - val_loss: 0.5506 - val_accuracy: 0.7250 - lr: 1.0000e-04\n",
      "Epoch 7/10\n",
      "23/23 [==============================] - 3s 138ms/step - loss: 0.5815 - accuracy: 0.6793 - val_loss: 0.5474 - val_accuracy: 0.6500 - lr: 1.0000e-04\n",
      "Epoch 8/10\n",
      "23/23 [==============================] - 4s 172ms/step - loss: 0.5733 - accuracy: 0.7717 - val_loss: 0.5159 - val_accuracy: 0.7500 - lr: 1.0000e-04\n",
      "Epoch 9/10\n",
      "23/23 [==============================] - 3s 140ms/step - loss: 0.6043 - accuracy: 0.6250 - val_loss: 0.5326 - val_accuracy: 0.7000 - lr: 1.0000e-04\n",
      "Epoch 10/10\n",
      "23/23 [==============================] - 4s 176ms/step - loss: 0.5664 - accuracy: 0.7500 - val_loss: 0.5140 - val_accuracy: 0.7750 - lr: 1.0000e-04\n"
     ]
    },
    {
     "data": {
      "text/plain": [
       "<keras.callbacks.History at 0x2266bfdb760>"
      ]
     },
     "execution_count": 10,
     "metadata": {},
     "output_type": "execute_result"
    }
   ],
   "source": [
    "#Training stage 2\n",
    "top_layer_num=round(len(model.layers)*0.75)\n",
    "\n",
    "for layer in model.layers[:top_layer_num]:\n",
    "    layer.trainable=False\n",
    "for layer in model.layers[top_layer_num:]:  #last ~25% layers are trainable\n",
    "    layer.trainable=True\n",
    "    \n",
    "model.compile(optimizer=tensorflow.keras.optimizers.Adam(learning_rate=1e-4), loss='binary_crossentropy', metrics=['accuracy'])\n",
    "\n",
    "callbacks = get_callbacks(name_weights = name_weights, patience_lr=10, patience=10) # do not reduce LR here\n",
    "\n",
    "model.fit_generator(generator=train_generator,\n",
    "                    steps_per_epoch=step_size_train,\n",
    "                    validation_steps=step_size_valid,\n",
    "                    validation_data=valid_generator,\n",
    "                    epochs=10,\n",
    "                    verbose=1,\n",
    "                    callbacks = callbacks)"
   ]
  },
  {
   "cell_type": "code",
   "execution_count": null,
   "metadata": {},
   "outputs": [
    {
     "name": "stderr",
     "output_type": "stream",
     "text": [
      "C:\\Users\\Administrator\\AppData\\Local\\Temp\\ipykernel_16036\\943335175.py:9: UserWarning: `Model.fit_generator` is deprecated and will be removed in a future version. Please use `Model.fit`, which supports generators.\n",
      "  model.fit_generator(generator=train_generator,\n"
     ]
    },
    {
     "name": "stdout",
     "output_type": "stream",
     "text": [
      "Epoch 1/100\n",
      "23/23 [==============================] - 13s 264ms/step - loss: 0.5440 - accuracy: 0.7174 - val_loss: 0.3936 - val_accuracy: 0.8750 - lr: 1.0000e-05\n",
      "Epoch 2/100\n",
      "23/23 [==============================] - 5s 228ms/step - loss: 0.4817 - accuracy: 0.7989 - val_loss: 0.3506 - val_accuracy: 0.8500 - lr: 1.0000e-05\n",
      "Epoch 3/100\n",
      "23/23 [==============================] - 4s 142ms/step - loss: 0.4329 - accuracy: 0.8098 - val_loss: 0.3688 - val_accuracy: 0.8000 - lr: 1.0000e-05\n",
      "Epoch 4/100\n",
      "23/23 [==============================] - 5s 232ms/step - loss: 0.4538 - accuracy: 0.7826 - val_loss: 0.3461 - val_accuracy: 0.8750 - lr: 1.0000e-05\n",
      "Epoch 5/100\n",
      "23/23 [==============================] - 4s 153ms/step - loss: 0.4512 - accuracy: 0.8098 - val_loss: 0.3506 - val_accuracy: 0.8500 - lr: 1.0000e-05\n",
      "Epoch 6/100\n",
      "23/23 [==============================] - 3s 143ms/step - loss: 0.4189 - accuracy: 0.7880 - val_loss: 0.3529 - val_accuracy: 0.8750 - lr: 1.0000e-05\n",
      "Epoch 7/100\n",
      "23/23 [==============================] - 6s 239ms/step - loss: 0.4167 - accuracy: 0.8370 - val_loss: 0.3217 - val_accuracy: 0.8750 - lr: 1.0000e-05\n",
      "Epoch 8/100\n",
      "23/23 [==============================] - 4s 145ms/step - loss: 0.4365 - accuracy: 0.8098 - val_loss: 0.3440 - val_accuracy: 0.8250 - lr: 1.0000e-05\n",
      "Epoch 9/100\n",
      "23/23 [==============================] - 3s 145ms/step - loss: 0.4152 - accuracy: 0.8043 - val_loss: 0.3358 - val_accuracy: 0.8500 - lr: 1.0000e-05\n",
      "Epoch 10/100\n",
      "10/23 [============>.................] - ETA: 1s - loss: 0.2840 - accuracy: 0.8875"
     ]
    }
   ],
   "source": [
    "#Training stage 3\n",
    "for layer in model.layers:  #All layers are trainable\n",
    "    layer.trainable=True\n",
    "    \n",
    "model.compile(optimizer=tensorflow.keras.optimizers.Adam(learning_rate=1e-5), loss='binary_crossentropy', metrics=['accuracy'])\n",
    "\n",
    "callbacks = get_callbacks(name_weights = name_weights, patience_lr=5, patience=5)\n",
    "\n",
    "model.fit_generator(generator=train_generator,\n",
    "                    steps_per_epoch=step_size_train,\n",
    "                    validation_steps=step_size_valid,\n",
    "                    validation_data=valid_generator,\n",
    "                    epochs=100,\n",
    "                    verbose=1,\n",
    "                    callbacks = callbacks)"
   ]
  },
  {
   "cell_type": "code",
   "execution_count": null,
   "metadata": {},
   "outputs": [],
   "source": [
    "import os, os.path\n",
    "\n",
    "VDIR0 = 'valid0'+vid[-1]+'/ben'\n",
    "VDIR1 = 'valid0'+vid[-1]+'/mal'\n",
    "\n",
    "valid0=len([name for name in os.listdir(VDIR0) if os.path.isfile(os.path.join(VDIR0, name))])\n",
    "valid1=len([name for name in os.listdir(VDIR1) if os.path.isfile(os.path.join(VDIR1, name))])\n",
    "\n",
    "num_of_valid_samples=valid0+valid1\n",
    "# Ref:  https://stackoverflow.com/questions/2632205/how-to-count-the-number-of-files-in-a-directory-using-python"
   ]
  },
  {
   "cell_type": "code",
   "execution_count": null,
   "metadata": {
    "colab": {
     "base_uri": "https://localhost:8080/",
     "height": 229
    },
    "colab_type": "code",
    "id": "m3gqhCbrbZNI",
    "outputId": "63631fe7-455e-4604-e222-7a1b72cd09a9"
   },
   "outputs": [],
   "source": [
    "# Validation accuracy and validation data confusion matrix\n",
    "\n",
    "import sklearn\n",
    "valid_generator = valid_datagen.flow_from_directory('valid0'+vid[-1], \n",
    "                                                     target_size=(IMG_SIZE,IMG_SIZE),\n",
    "                                                     color_mode='rgb',\n",
    "                                                     batch_size=batch_size,\n",
    "                                                     class_mode='binary',\n",
    "                                                     shuffle=False)\n",
    "\n",
    "# Ref: https://gist.github.com/RyanAkilos/3808c17f79e77c4117de35aa68447045 accessed on 5 Feb 2020\n",
    "from sklearn.metrics import precision_score, recall_score, confusion_matrix, accuracy_score, roc_auc_score, f1_score, matthews_corrcoef\n",
    "\n",
    "\n",
    "Y_pred = model.predict(valid_generator)\n",
    "y_pred=(Y_pred>0.5).astype(int)\n",
    "ras=roc_auc_score(valid_generator.classes, Y_pred)\n",
    "prec=precision_score(valid_generator.classes, y_pred,pos_label=1)\n",
    "rec=recall_score(valid_generator.classes, y_pred,pos_label=1)\n",
    "f1s=f1_score(valid_generator.classes, y_pred,pos_label=1)\n",
    "mcc=matthews_corrcoef(valid_generator.classes, y_pred)\n",
    "\n",
    "print('Confusion Matrix:')\n",
    "print(confusion_matrix(valid_generator.classes, y_pred))\n",
    "print('Accuracy:', accuracy_score(valid_generator.classes, y_pred))\n",
    "print('ROC AUC score:', ras)\n",
    "print('Precision score:', prec)\n",
    "print('Recall score:', rec)\n",
    "print('F1 score:', f1s)\n",
    "print('MCC score:', mcc)"
   ]
  },
  {
   "cell_type": "code",
   "execution_count": null,
   "metadata": {},
   "outputs": [],
   "source": [
    "# Predicted object delete threshold = 30\n",
    "test_datagen = ImageDataGenerator(rescale=1./255)\n",
    "\n",
    "test_generator = test_datagen.flow_from_directory('test_upp_xcept', \n",
    "                                                 target_size=(IMG_SIZE,IMG_SIZE),\n",
    "                                                 color_mode='rgb',\n",
    "                                                 batch_size=batch_size,\n",
    "                                                 class_mode='binary',\n",
    "                                                 shuffle=False)\n",
    "\n",
    "\n",
    "# Ref: https://gist.github.com/RyanAkilos/3808c17f79e77c4117de35aa68447045 accessed on 5 Feb 2020\n",
    "from sklearn.metrics import precision_score, recall_score, confusion_matrix, accuracy_score, roc_auc_score, f1_score, matthews_corrcoef\n",
    "\n",
    "\n",
    "Y_pred = model.predict(test_generator)\n",
    "y_pred=(Y_pred>0.5).astype(int)\n",
    "ras=roc_auc_score(test_generator.classes, Y_pred)\n",
    "prec=precision_score(test_generator.classes, y_pred,pos_label=1)\n",
    "rec=recall_score(test_generator.classes, y_pred,pos_label=1)\n",
    "f1s=f1_score(test_generator.classes, y_pred,pos_label=1)\n",
    "mcc=matthews_corrcoef(test_generator.classes, y_pred)\n",
    "\n",
    "print('Confusion Matrix:')\n",
    "print(confusion_matrix(test_generator.classes, y_pred))\n",
    "print('Accuracy:', accuracy_score(test_generator.classes, y_pred))\n",
    "print('ROC AUC score:', ras)\n",
    "print('Precision score:', prec)\n",
    "print('Recall score:', rec)\n",
    "print('F1 score:', f1s)\n",
    "print('MCC score:', mcc)"
   ]
  },
  {
   "cell_type": "code",
   "execution_count": null,
   "metadata": {},
   "outputs": [],
   "source": []
  }
 ],
 "metadata": {
  "accelerator": "GPU",
  "colab": {
   "collapsed_sections": [],
   "name": "tis_dens_class_nasnet_imgnt_s16_22may20_gcl_v1.ipynb",
   "provenance": []
  },
  "kernelspec": {
   "display_name": "gpu-tf22",
   "language": "python",
   "name": "tf-gpu22"
  },
  "language_info": {
   "codemirror_mode": {
    "name": "ipython",
    "version": 3
   },
   "file_extension": ".py",
   "mimetype": "text/x-python",
   "name": "python",
   "nbconvert_exporter": "python",
   "pygments_lexer": "ipython3",
   "version": "3.9.13"
  }
 },
 "nbformat": 4,
 "nbformat_minor": 1
}
