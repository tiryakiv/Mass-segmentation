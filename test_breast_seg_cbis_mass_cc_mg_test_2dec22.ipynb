{
 "cells": [
  {
   "cell_type": "markdown",
   "metadata": {},
   "source": [
    "# Breast segmentation system test"
   ]
  },
  {
   "cell_type": "code",
   "execution_count": 1,
   "metadata": {},
   "outputs": [],
   "source": [
    "from model5LHzc import *\n",
    "from data_1ch import *\n",
    "vid=\"v001_2\" #version id should match the file number. Last number shows the cross-validation fold number"
   ]
  },
  {
   "cell_type": "code",
   "execution_count": 2,
   "metadata": {},
   "outputs": [
    {
     "name": "stdout",
     "output_type": "stream",
     "text": [
      "458/458 [==============================] - 202s 148ms/step\n"
     ]
    }
   ],
   "source": [
    "learning_rate=1e-3\n",
    "loss=dice_loss\n",
    "num_top_filter=16\n",
    "model = unet(learning_rate, loss, num_top_filter)\n",
    "validGene = testGenerator(\"cbis_mass_cc_train/train/mg\",458)\n",
    "model.load_weights(\"files_mg_seg_xval/unet_mg_seg_\"+vid+\".hdf5\") # Load pre-trained model \n",
    "results = model.predict(validGene,458,verbose=1)\n",
    "saveResult(\"cbis_mass_cc_train/train/mg\",results,vid[:4])\n",
    "\n",
    "# Now proceed to the mass segmentation pre-processing"
   ]
  },
  {
   "cell_type": "code",
   "execution_count": 3,
   "metadata": {},
   "outputs": [
    {
     "name": "stdout",
     "output_type": "stream",
     "text": [
      "114/114 [==============================] - 14s 118ms/step\n"
     ]
    }
   ],
   "source": [
    "learning_rate=1e-3\n",
    "loss=dice_loss\n",
    "num_top_filter=16\n",
    "model = unet(learning_rate, loss, num_top_filter)\n",
    "validGene = testGenerator(\"cbis_mass_cc_train/valid/mg\",114)\n",
    "model.load_weights(\"files_mg_seg_xval/unet_mg_seg_\"+vid+\".hdf5\") # Load pre-trained model \n",
    "results = model.predict(validGene,114,verbose=1)\n",
    "saveResult(\"cbis_mass_cc_train/valid/mg\",results,vid[:4])\n",
    "\n",
    "# Now proceed to the mass segmentation pre-processing"
   ]
  }
 ],
 "metadata": {
  "kernelspec": {
   "display_name": "gpu-tf22",
   "language": "python",
   "name": "tf-gpu22"
  },
  "language_info": {
   "codemirror_mode": {
    "name": "ipython",
    "version": 3
   },
   "file_extension": ".py",
   "mimetype": "text/x-python",
   "name": "python",
   "nbconvert_exporter": "python",
   "pygments_lexer": "ipython3",
   "version": "3.9.13"
  }
 },
 "nbformat": 4,
 "nbformat_minor": 2
}
